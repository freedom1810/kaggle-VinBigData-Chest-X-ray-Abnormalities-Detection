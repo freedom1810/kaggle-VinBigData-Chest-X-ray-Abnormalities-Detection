{
 "cells": [
  {
   "cell_type": "code",
   "execution_count": 67,
   "id": "australian-green",
   "metadata": {},
   "outputs": [],
   "source": [
    "import json\n",
    "import pandas as pd"
   ]
  },
  {
   "cell_type": "code",
   "execution_count": 68,
   "id": "monetary-marsh",
   "metadata": {},
   "outputs": [
    {
     "name": "stdout",
     "output_type": "stream",
     "text": [
      "14\n"
     ]
    }
   ],
   "source": [
    "list_model = [63, 62, 36, 52, 46, 82, 66, 82, 72, 79, 70, 74, 75, 68]\n",
    "\n",
    "print(len(list_model))\n",
    "data_merge = []\n",
    "\n",
    "for i in range(len(list_model)):\n",
    "    class_id = i\n",
    "    with open('/root/kaggle-VinBigData-Chest-X-ray-Abnormalities-Detection/14_class_predict/last{}_strip_predictions.json'.format(list_model[i]), 'r') as dir:\n",
    "        data = json.load(dir)\n",
    "        for anno in data:\n",
    "            if anno['category_id'] == class_id:\n",
    "                data_merge.append(anno)"
   ]
  },
  {
   "cell_type": "code",
   "execution_count": 69,
   "id": "modern-university",
   "metadata": {},
   "outputs": [
    {
     "data": {
      "text/plain": [
       "365663"
      ]
     },
     "execution_count": 69,
     "metadata": {},
     "output_type": "execute_result"
    }
   ],
   "source": [
    "len(data_merge)"
   ]
  },
  {
   "cell_type": "code",
   "execution_count": 70,
   "id": "vocal-enterprise",
   "metadata": {},
   "outputs": [],
   "source": [
    "with open('/root/kaggle-VinBigData-Chest-X-ray-Abnormalities-Detection/14_class_predict/merge_predictions.json', 'w') as dir:\n",
    "    json.dump(data_merge, dir)"
   ]
  },
  {
   "cell_type": "code",
   "execution_count": 18,
   "id": "undefined-round",
   "metadata": {},
   "outputs": [],
   "source": [
    " with open('/root/annotations/instances_val2017.json', 'r') as dir:\n",
    "    data_coco = json.load(dir)\n",
    "\n"
   ]
  },
  {
   "cell_type": "code",
   "execution_count": 19,
   "id": "insured-trainer",
   "metadata": {},
   "outputs": [
    {
     "data": {
      "text/plain": [
       "dict_keys(['info', 'licenses', 'images', 'annotations', 'categories'])"
      ]
     },
     "execution_count": 19,
     "metadata": {},
     "output_type": "execute_result"
    }
   ],
   "source": [
    "data_coco.keys()\n"
   ]
  },
  {
   "cell_type": "code",
   "execution_count": 59,
   "id": "contemporary-wells",
   "metadata": {
    "tags": []
   },
   "outputs": [
    {
     "data": {
      "text/plain": [
       "[{'id': 1, 'name': 'person', 'supercategory': 'person'},\n",
       " {'id': 2, 'name': 'bicycle', 'supercategory': 'vehicle'},\n",
       " {'id': 3, 'name': 'car', 'supercategory': 'vehicle'},\n",
       " {'id': 4, 'name': 'motorcycle', 'supercategory': 'vehicle'},\n",
       " {'id': 5, 'name': 'airplane', 'supercategory': 'vehicle'},\n",
       " {'id': 6, 'name': 'bus', 'supercategory': 'vehicle'},\n",
       " {'id': 7, 'name': 'train', 'supercategory': 'vehicle'},\n",
       " {'id': 8, 'name': 'truck', 'supercategory': 'vehicle'},\n",
       " {'id': 9, 'name': 'boat', 'supercategory': 'vehicle'},\n",
       " {'id': 10, 'name': 'traffic light', 'supercategory': 'outdoor'},\n",
       " {'id': 11, 'name': 'fire hydrant', 'supercategory': 'outdoor'},\n",
       " {'id': 13, 'name': 'stop sign', 'supercategory': 'outdoor'},\n",
       " {'id': 14, 'name': 'parking meter', 'supercategory': 'outdoor'},\n",
       " {'id': 15, 'name': 'bench', 'supercategory': 'outdoor'},\n",
       " {'id': 16, 'name': 'bird', 'supercategory': 'animal'},\n",
       " {'id': 17, 'name': 'cat', 'supercategory': 'animal'},\n",
       " {'id': 18, 'name': 'dog', 'supercategory': 'animal'},\n",
       " {'id': 19, 'name': 'horse', 'supercategory': 'animal'},\n",
       " {'id': 20, 'name': 'sheep', 'supercategory': 'animal'},\n",
       " {'id': 21, 'name': 'cow', 'supercategory': 'animal'},\n",
       " {'id': 22, 'name': 'elephant', 'supercategory': 'animal'},\n",
       " {'id': 23, 'name': 'bear', 'supercategory': 'animal'},\n",
       " {'id': 24, 'name': 'zebra', 'supercategory': 'animal'},\n",
       " {'id': 25, 'name': 'giraffe', 'supercategory': 'animal'},\n",
       " {'id': 27, 'name': 'backpack', 'supercategory': 'accessory'},\n",
       " {'id': 28, 'name': 'umbrella', 'supercategory': 'accessory'},\n",
       " {'id': 31, 'name': 'handbag', 'supercategory': 'accessory'},\n",
       " {'id': 32, 'name': 'tie', 'supercategory': 'accessory'},\n",
       " {'id': 33, 'name': 'suitcase', 'supercategory': 'accessory'},\n",
       " {'id': 34, 'name': 'frisbee', 'supercategory': 'sports'},\n",
       " {'id': 35, 'name': 'skis', 'supercategory': 'sports'},\n",
       " {'id': 36, 'name': 'snowboard', 'supercategory': 'sports'},\n",
       " {'id': 37, 'name': 'sports ball', 'supercategory': 'sports'},\n",
       " {'id': 38, 'name': 'kite', 'supercategory': 'sports'},\n",
       " {'id': 39, 'name': 'baseball bat', 'supercategory': 'sports'},\n",
       " {'id': 40, 'name': 'baseball glove', 'supercategory': 'sports'},\n",
       " {'id': 41, 'name': 'skateboard', 'supercategory': 'sports'},\n",
       " {'id': 42, 'name': 'surfboard', 'supercategory': 'sports'},\n",
       " {'id': 43, 'name': 'tennis racket', 'supercategory': 'sports'},\n",
       " {'id': 44, 'name': 'bottle', 'supercategory': 'kitchen'},\n",
       " {'id': 46, 'name': 'wine glass', 'supercategory': 'kitchen'},\n",
       " {'id': 47, 'name': 'cup', 'supercategory': 'kitchen'},\n",
       " {'id': 48, 'name': 'fork', 'supercategory': 'kitchen'},\n",
       " {'id': 49, 'name': 'knife', 'supercategory': 'kitchen'},\n",
       " {'id': 50, 'name': 'spoon', 'supercategory': 'kitchen'},\n",
       " {'id': 51, 'name': 'bowl', 'supercategory': 'kitchen'},\n",
       " {'id': 52, 'name': 'banana', 'supercategory': 'food'},\n",
       " {'id': 53, 'name': 'apple', 'supercategory': 'food'},\n",
       " {'id': 54, 'name': 'sandwich', 'supercategory': 'food'},\n",
       " {'id': 55, 'name': 'orange', 'supercategory': 'food'},\n",
       " {'id': 56, 'name': 'broccoli', 'supercategory': 'food'},\n",
       " {'id': 57, 'name': 'carrot', 'supercategory': 'food'},\n",
       " {'id': 58, 'name': 'hot dog', 'supercategory': 'food'},\n",
       " {'id': 59, 'name': 'pizza', 'supercategory': 'food'},\n",
       " {'id': 60, 'name': 'donut', 'supercategory': 'food'},\n",
       " {'id': 61, 'name': 'cake', 'supercategory': 'food'},\n",
       " {'id': 62, 'name': 'chair', 'supercategory': 'furniture'},\n",
       " {'id': 63, 'name': 'couch', 'supercategory': 'furniture'},\n",
       " {'id': 64, 'name': 'potted plant', 'supercategory': 'furniture'},\n",
       " {'id': 65, 'name': 'bed', 'supercategory': 'furniture'},\n",
       " {'id': 67, 'name': 'dining table', 'supercategory': 'furniture'},\n",
       " {'id': 70, 'name': 'toilet', 'supercategory': 'furniture'},\n",
       " {'id': 72, 'name': 'tv', 'supercategory': 'electronic'},\n",
       " {'id': 73, 'name': 'laptop', 'supercategory': 'electronic'},\n",
       " {'id': 74, 'name': 'mouse', 'supercategory': 'electronic'},\n",
       " {'id': 75, 'name': 'remote', 'supercategory': 'electronic'},\n",
       " {'id': 76, 'name': 'keyboard', 'supercategory': 'electronic'},\n",
       " {'id': 77, 'name': 'cell phone', 'supercategory': 'electronic'},\n",
       " {'id': 78, 'name': 'microwave', 'supercategory': 'appliance'},\n",
       " {'id': 79, 'name': 'oven', 'supercategory': 'appliance'},\n",
       " {'id': 80, 'name': 'toaster', 'supercategory': 'appliance'},\n",
       " {'id': 81, 'name': 'sink', 'supercategory': 'appliance'},\n",
       " {'id': 82, 'name': 'refrigerator', 'supercategory': 'appliance'},\n",
       " {'id': 84, 'name': 'book', 'supercategory': 'indoor'},\n",
       " {'id': 85, 'name': 'clock', 'supercategory': 'indoor'},\n",
       " {'id': 86, 'name': 'vase', 'supercategory': 'indoor'},\n",
       " {'id': 87, 'name': 'scissors', 'supercategory': 'indoor'},\n",
       " {'id': 88, 'name': 'teddy bear', 'supercategory': 'indoor'},\n",
       " {'id': 89, 'name': 'hair drier', 'supercategory': 'indoor'},\n",
       " {'id': 90, 'name': 'toothbrush', 'supercategory': 'indoor'}]"
      ]
     },
     "execution_count": 59,
     "metadata": {},
     "output_type": "execute_result"
    }
   ],
   "source": [
    "data['categories']"
   ]
  },
  {
   "cell_type": "markdown",
   "id": "tired-defeat",
   "metadata": {},
   "source": [
    "# gt to coco"
   ]
  },
  {
   "cell_type": "code",
   "execution_count": 17,
   "id": "vietnamese-defeat",
   "metadata": {},
   "outputs": [
    {
     "data": {
      "text/html": [
       "<div>\n",
       "<style scoped>\n",
       "    .dataframe tbody tr th:only-of-type {\n",
       "        vertical-align: middle;\n",
       "    }\n",
       "\n",
       "    .dataframe tbody tr th {\n",
       "        vertical-align: top;\n",
       "    }\n",
       "\n",
       "    .dataframe thead th {\n",
       "        text-align: right;\n",
       "    }\n",
       "</style>\n",
       "<table border=\"1\" class=\"dataframe\">\n",
       "  <thead>\n",
       "    <tr style=\"text-align: right;\">\n",
       "      <th></th>\n",
       "      <th>image_id</th>\n",
       "      <th>class_id</th>\n",
       "      <th>x_min</th>\n",
       "      <th>y_min</th>\n",
       "      <th>x_max</th>\n",
       "      <th>y_max</th>\n",
       "      <th>fold</th>\n",
       "    </tr>\n",
       "  </thead>\n",
       "  <tbody>\n",
       "    <tr>\n",
       "      <th>15</th>\n",
       "      <td>5bf3368744630f459a499ccdccc9cdf1</td>\n",
       "      <td>0</td>\n",
       "      <td>1437.0</td>\n",
       "      <td>933.3</td>\n",
       "      <td>1833.3</td>\n",
       "      <td>1413.7</td>\n",
       "      <td>0</td>\n",
       "    </tr>\n",
       "    <tr>\n",
       "      <th>16</th>\n",
       "      <td>5bf3368744630f459a499ccdccc9cdf1</td>\n",
       "      <td>3</td>\n",
       "      <td>1065.0</td>\n",
       "      <td>2005.5</td>\n",
       "      <td>2343.5</td>\n",
       "      <td>2584.0</td>\n",
       "      <td>0</td>\n",
       "    </tr>\n",
       "    <tr>\n",
       "      <th>17</th>\n",
       "      <td>5bf3368744630f459a499ccdccc9cdf1</td>\n",
       "      <td>9</td>\n",
       "      <td>960.0</td>\n",
       "      <td>427.0</td>\n",
       "      <td>1193.0</td>\n",
       "      <td>671.0</td>\n",
       "      <td>0</td>\n",
       "    </tr>\n",
       "    <tr>\n",
       "      <th>18</th>\n",
       "      <td>5bf3368744630f459a499ccdccc9cdf1</td>\n",
       "      <td>9</td>\n",
       "      <td>1974.0</td>\n",
       "      <td>253.0</td>\n",
       "      <td>2148.0</td>\n",
       "      <td>479.0</td>\n",
       "      <td>0</td>\n",
       "    </tr>\n",
       "    <tr>\n",
       "      <th>19</th>\n",
       "      <td>5bf3368744630f459a499ccdccc9cdf1</td>\n",
       "      <td>6</td>\n",
       "      <td>468.0</td>\n",
       "      <td>1826.0</td>\n",
       "      <td>1133.0</td>\n",
       "      <td>2194.0</td>\n",
       "      <td>0</td>\n",
       "    </tr>\n",
       "  </tbody>\n",
       "</table>\n",
       "</div>"
      ],
      "text/plain": [
       "                            image_id  class_id   x_min   y_min   x_max   y_max  fold\n",
       "15  5bf3368744630f459a499ccdccc9cdf1         0  1437.0   933.3  1833.3  1413.7     0\n",
       "16  5bf3368744630f459a499ccdccc9cdf1         3  1065.0  2005.5  2343.5  2584.0     0\n",
       "17  5bf3368744630f459a499ccdccc9cdf1         9   960.0   427.0  1193.0   671.0     0\n",
       "18  5bf3368744630f459a499ccdccc9cdf1         9  1974.0   253.0  2148.0   479.0     0\n",
       "19  5bf3368744630f459a499ccdccc9cdf1         6   468.0  1826.0  1133.0  2194.0     0"
      ]
     },
     "execution_count": 17,
     "metadata": {},
     "output_type": "execute_result"
    }
   ],
   "source": [
    "df = pd.read_csv('/root/train_only_box_merge_box_0.4.csv')\n",
    "df = df[df['fold'] == 0]\n",
    "df.head()"
   ]
  },
  {
   "cell_type": "code",
   "execution_count": 64,
   "id": "indonesian-arrow",
   "metadata": {},
   "outputs": [],
   "source": [
    "gt_data = {'info':[], 'licenses':[], 'images':[], 'annotations':[], 'categories':[]}\n",
    "list_image_id = []\n",
    "count_box = 0\n",
    "for i in range(len(df)):\n",
    "    image_id = df.iloc[i]['image_id']\n",
    "    x_min = int(df.iloc[i]['x_min'])\n",
    "    y_min = int(df.iloc[i]['y_min'])\n",
    "    x_max = int(df.iloc[i]['x_max'])\n",
    "    y_max = int(df.iloc[i]['y_max'])\n",
    "    w = x_max - x_min\n",
    "    h = y_max - y_min\n",
    "    class_id = int(df.iloc[i]['class_id'])\n",
    "    \n",
    "    if image_id not in list_image_id:\n",
    "        list_image_id.append(image_id)\n",
    "        \n",
    "        gt_data['images'].append({\n",
    "            'id': image_id,\n",
    "            \"height\": 626,\n",
    "            \"width\": 1622,})\n",
    "    gt_data['annotations'].append({'area': w*h,\n",
    "                                 'bbox': [x_min, y_min, w, h],\n",
    "                                 'category_id': class_id,\n",
    "                                 'id': count_box,\n",
    "                                 'image_id': image_id,\n",
    "                                 'iscrowd': 0,})\n",
    "    count_box += 1\n",
    "        \n",
    "    "
   ]
  },
  {
   "cell_type": "code",
   "execution_count": 65,
   "id": "comparable-updating",
   "metadata": {},
   "outputs": [],
   "source": [
    "with open('/root/kaggle-VinBigData-Chest-X-ray-Abnormalities-Detection/14_class_predict_val/gt_coco_format.json', 'w') as dir:\n",
    "    json.dump(gt_data, dir)"
   ]
  },
  {
   "cell_type": "code",
   "execution_count": 66,
   "id": "amazing-thanks",
   "metadata": {
    "tags": []
   },
   "outputs": [
    {
     "name": "stdout",
     "output_type": "stream",
     "text": [
      "loading annotations into memory...\n",
      "Done (t=0.01s)\n",
      "creating index...\n",
      "index created!\n",
      "Loading and preparing results...\n",
      "DONE (t=1.02s)\n",
      "creating index...\n",
      "index created!\n",
      "Running per image evaluation...\n",
      "Evaluate annotation type *bbox*\n",
      "DONE (t=0.15s).\n",
      "Accumulating evaluation results...\n",
      "Please run evaluate() first\n",
      "DONE (t=0.00s).\n",
      " Average Precision  (AP) @[ IoU=0.50:0.95 | area=   all | maxDets=100 ] = -1.000\n",
      " Average Precision  (AP) @[ IoU=0.50      | area=   all | maxDets=100 ] = -1.000\n",
      " Average Precision  (AP) @[ IoU=0.75      | area=   all | maxDets=100 ] = -1.000\n",
      " Average Precision  (AP) @[ IoU=0.50:0.95 | area= small | maxDets=100 ] = -1.000\n",
      " Average Precision  (AP) @[ IoU=0.50:0.95 | area=medium | maxDets=100 ] = -1.000\n",
      " Average Precision  (AP) @[ IoU=0.50:0.95 | area= large | maxDets=100 ] = -1.000\n",
      " Average Recall     (AR) @[ IoU=0.50:0.95 | area=   all | maxDets=  1 ] = -1.000\n",
      " Average Recall     (AR) @[ IoU=0.50:0.95 | area=   all | maxDets= 10 ] = -1.000\n",
      " Average Recall     (AR) @[ IoU=0.50:0.95 | area=   all | maxDets=100 ] = -1.000\n",
      " Average Recall     (AR) @[ IoU=0.50:0.95 | area= small | maxDets=100 ] = -1.000\n",
      " Average Recall     (AR) @[ IoU=0.50:0.95 | area=medium | maxDets=100 ] = -1.000\n",
      " Average Recall     (AR) @[ IoU=0.50:0.95 | area= large | maxDets=100 ] = -1.000\n"
     ]
    }
   ],
   "source": [
    "anno_json = '/root/kaggle-VinBigData-Chest-X-ray-Abnormalities-Detection/14_class_predict_val/gt_coco_format.json'  # annotations json\n",
    "pred_json = '/root/kaggle-VinBigData-Chest-X-ray-Abnormalities-Detection/14_class_predict_val/merge_predictions.json'\n",
    "\n",
    "# try:  # https://github.com/cocodataset/cocoapi/blob/master/PythonAPI/pycocoEvalDemo.ipynb\n",
    "from pycocotools.coco import COCO\n",
    "from pycocotools.cocoeval import COCOeval\n",
    "\n",
    "anno = COCO(anno_json)  # init annotations api\n",
    "pred = anno.loadRes(pred_json)  # init predictions api\n",
    "eval = COCOeval(anno, pred, 'bbox')\n",
    "\n",
    "\n",
    "eval.params.imgIds = [gt_data['images'][i]['id'] for i in range(len(gt_data['images']))]  # image IDs to evaluate\n",
    "    \n",
    "eval.evaluate()\n",
    "eval.accumulate()\n",
    "eval.summarize()\n"
   ]
  },
  {
   "cell_type": "markdown",
   "id": "stunning-salad",
   "metadata": {},
   "source": [
    "# check"
   ]
  },
  {
   "cell_type": "code",
   "execution_count": 45,
   "id": "retained-violin",
   "metadata": {},
   "outputs": [],
   "source": [
    "with open(pred_json, 'r') as dir:\n",
    "    data_pred = json.load(dir)"
   ]
  },
  {
   "cell_type": "code",
   "execution_count": 52,
   "id": "muslim-possibility",
   "metadata": {
    "collapsed": true,
    "jupyter": {
     "outputs_hidden": true
    },
    "tags": []
   },
   "outputs": [
    {
     "name": "stdout",
     "output_type": "stream",
     "text": [
      "{'image_id': '852ec6a0bcb9608ffee9b3fda0867f91', 'category_id': 0, 'bbox': [1636.407, 873.558, 345.964, 415.156], 'score': 0.65723}\n",
      "{'image_id': '852ec6a0bcb9608ffee9b3fda0867f91', 'category_id': 0, 'bbox': [1195.304, 1270.551, 309.637, 365.856], 'score': 0.08081}\n",
      "{'image_id': '852ec6a0bcb9608ffee9b3fda0867f91', 'category_id': 0, 'bbox': [1762.684, 1233.36, 318.286, 364.991], 'score': 0.03093}\n",
      "{'image_id': '852ec6a0bcb9608ffee9b3fda0867f91', 'category_id': 0, 'bbox': [1350.988, 882.207, 610.626, 527.594], 'score': 0.02036}\n",
      "{'image_id': '852ec6a0bcb9608ffee9b3fda0867f91', 'category_id': 0, 'bbox': [1612.19, 1314.661, 411.697, 518.945], 'score': 0.01226}\n",
      "{'image_id': '852ec6a0bcb9608ffee9b3fda0867f91', 'category_id': 0, 'bbox': [1318.121, 1024.917, 363.262, 486.944], 'score': 0.00697}\n",
      "{'image_id': '852ec6a0bcb9608ffee9b3fda0867f91', 'category_id': 0, 'bbox': [1263.632, 1811.119, 1023.187, 356.342], 'score': 0.00435}\n",
      "{'image_id': '852ec6a0bcb9608ffee9b3fda0867f91', 'category_id': 0, 'bbox': [1124.381, 1373.475, 281.96, 290.609], 'score': 0.00361}\n",
      "{'image_id': '852ec6a0bcb9608ffee9b3fda0867f91', 'category_id': 0, 'bbox': [1541.267, 1060.378, 411.697, 645.222], 'score': 0.00333}\n",
      "{'image_id': '852ec6a0bcb9608ffee9b3fda0867f91', 'category_id': 0, 'bbox': [1552.511, 1444.398, 301.853, 363.262], 'score': 0.00294}\n",
      "{'image_id': '852ec6a0bcb9608ffee9b3fda0867f91', 'category_id': 0, 'bbox': [1356.177, 820.798, 307.908, 503.377], 'score': 0.00274}\n",
      "{'image_id': '852ec6a0bcb9608ffee9b3fda0867f91', 'category_id': 0, 'bbox': [1210.872, 947.075, 323.476, 441.103], 'score': 0.00253}\n",
      "{'image_id': '852ec6a0bcb9608ffee9b3fda0867f91', 'category_id': 0, 'bbox': [1674.464, 786.202, 626.194, 687.602], 'score': 0.00251}\n",
      "{'image_id': '852ec6a0bcb9608ffee9b3fda0867f91', 'category_id': 0, 'bbox': [1040.485, 1229.035, 480.889, 720.469], 'score': 0.00177}\n",
      "{'image_id': '852ec6a0bcb9608ffee9b3fda0867f91', 'category_id': 0, 'bbox': [1887.231, 1242.874, 211.038, 244.769], 'score': 0.00167}\n",
      "{'image_id': '852ec6a0bcb9608ffee9b3fda0867f91', 'category_id': 0, 'bbox': [1082.001, 857.99, 333.855, 536.243], 'score': 0.00166}\n",
      "{'image_id': '852ec6a0bcb9608ffee9b3fda0867f91', 'category_id': 0, 'bbox': [1312.932, 1233.36, 273.311, 330.395], 'score': 0.00151}\n",
      "{'image_id': '852ec6a0bcb9608ffee9b3fda0867f91', 'category_id': 0, 'bbox': [1264.497, 1062.108, 468.781, 1075.947], 'score': 0.00146}\n",
      "{'image_id': '852ec6a0bcb9608ffee9b3fda0867f91', 'category_id': 0, 'bbox': [1407.207, 406.507, 236.985, 318.286], 'score': 0.00145}\n",
      "{'image_id': '852ec6a0bcb9608ffee9b3fda0867f91', 'category_id': 0, 'bbox': [0.0, 1203.953, 25.731, 413.426], 'score': 0.0014}\n",
      "{'image_id': '852ec6a0bcb9608ffee9b3fda0867f91', 'category_id': 0, 'bbox': [1818.038, 1197.899, 411.697, 545.757], 'score': 0.00139}\n",
      "{'image_id': '852ec6a0bcb9608ffee9b3fda0867f91', 'category_id': 0, 'bbox': [1478.129, 1271.416, 324.341, 667.71], 'score': 0.00118}\n",
      "{'image_id': '852ec6a0bcb9608ffee9b3fda0867f91', 'category_id': 0, 'bbox': [1632.948, 1041.35, 653.871, 1027.512], 'score': 0.00118}\n",
      "{'image_id': '852ec6a0bcb9608ffee9b3fda0867f91', 'category_id': 0, 'bbox': [1987.561, 1139.085, 615.815, 1116.597], 'score': 0.00103}\n",
      "{'image_id': '852ec6a0bcb9608ffee9b3fda0867f91', 'category_id': 1, 'bbox': [275.041, 626.194, 1252.388, 2030.806], 'score': 0.00521}\n",
      "{'image_id': '852ec6a0bcb9608ffee9b3fda0867f91', 'category_id': 1, 'bbox': [1236.82, 385.749, 415.156, 441.104], 'score': 0.00358}\n",
      "{'image_id': '852ec6a0bcb9608ffee9b3fda0867f91', 'category_id': 1, 'bbox': [928.912, 652.141, 486.079, 633.113], 'score': 0.00282}\n",
      "{'image_id': '852ec6a0bcb9608ffee9b3fda0867f91', 'category_id': 1, 'bbox': [1106.218, 1563.755, 1170.222, 878.747], 'score': 0.00181}\n",
      "{'image_id': '852ec6a0bcb9608ffee9b3fda0867f91', 'category_id': 1, 'bbox': [761.12, 718.739, 683.278, 1128.706], 'score': 0.0015}\n",
      "{'image_id': '852ec6a0bcb9608ffee9b3fda0867f91', 'category_id': 1, 'bbox': [0.0, 710.955, 526.729, 1715.979], 'score': 0.0015}\n",
      "{'image_id': '852ec6a0bcb9608ffee9b3fda0867f91', 'category_id': 1, 'bbox': [1159.843, 836.367, 877.882, 1820.633], 'score': 0.00144}\n",
      "{'image_id': '852ec6a0bcb9608ffee9b3fda0867f91', 'category_id': 1, 'bbox': [1272.281, 507.701, 281.96, 581.219], 'score': 0.00135}\n",
      "{'image_id': '852ec6a0bcb9608ffee9b3fda0867f91', 'category_id': 1, 'bbox': [1629.488, 875.288, 352.883, 416.886], 'score': 0.00119}\n",
      "{'image_id': '852ec6a0bcb9608ffee9b3fda0867f91', 'category_id': 1, 'bbox': [1224.711, 1755.765, 1103.624, 390.939], 'score': 0.00119}\n",
      "{'image_id': '852ec6a0bcb9608ffee9b3fda0867f91', 'category_id': 1, 'bbox': [2099.999, 976.482, 1072.487, 1680.518], 'score': 0.00113}\n",
      "{'image_id': '852ec6a0bcb9608ffee9b3fda0867f91', 'category_id': 1, 'bbox': [2151.893, 1141.68, 667.71, 934.102], 'score': 0.00112}\n",
      "{'image_id': '852ec6a0bcb9608ffee9b3fda0867f91', 'category_id': 2, 'bbox': [1823.228, 305.745, 96.87, 110.708], 'score': 0.0318}\n",
      "{'image_id': '852ec6a0bcb9608ffee9b3fda0867f91', 'category_id': 2, 'bbox': [1075.082, 755.93, 340.774, 520.675], 'score': 0.01177}\n",
      "{'image_id': '852ec6a0bcb9608ffee9b3fda0867f91', 'category_id': 2, 'bbox': [1638.137, 878.747, 345.964, 397.858], 'score': 0.00463}\n",
      "{'image_id': '852ec6a0bcb9608ffee9b3fda0867f91', 'category_id': 2, 'bbox': [1799.01, 278.068, 183.361, 166.062], 'score': 0.00239}\n",
      "{'image_id': '852ec6a0bcb9608ffee9b3fda0867f91', 'category_id': 2, 'bbox': [1247.198, 1788.631, 1065.568, 394.398], 'score': 0.00136}\n",
      "{'image_id': '852ec6a0bcb9608ffee9b3fda0867f91', 'category_id': 2, 'bbox': [1300.823, 316.557, 91.68, 83.031], 'score': 0.00113}\n",
      "{'image_id': '852ec6a0bcb9608ffee9b3fda0867f91', 'category_id': 3, 'bbox': [1274.876, 1814.579, 1020.592, 345.964], 'score': 0.48779}\n",
      "{'image_id': '852ec6a0bcb9608ffee9b3fda0867f91', 'category_id': 3, 'bbox': [1631.218, 879.612, 345.964, 401.318], 'score': 0.00418}\n",
      "{'image_id': '852ec6a0bcb9608ffee9b3fda0867f91', 'category_id': 3, 'bbox': [1226.441, 1546.457, 1110.543, 864.909], 'score': 0.00214}\n",
      "{'image_id': '852ec6a0bcb9608ffee9b3fda0867f91', 'category_id': 4, 'bbox': [1267.091, 433.752, 290.609, 592.03], 'score': 0.00295}\n",
      "{'image_id': '852ec6a0bcb9608ffee9b3fda0867f91', 'category_id': 4, 'bbox': [1637.272, 879.612, 339.909, 389.209], 'score': 0.00148}\n",
      "{'image_id': '852ec6a0bcb9608ffee9b3fda0867f91', 'category_id': 5, 'bbox': [736.902, 847.611, 676.359, 1269.686], 'score': 0.00406}\n",
      "{'image_id': '852ec6a0bcb9608ffee9b3fda0867f91', 'category_id': 5, 'bbox': [1885.501, 797.446, 757.66, 1428.829], 'score': 0.00253}\n",
      "{'image_id': '852ec6a0bcb9608ffee9b3fda0867f91', 'category_id': 6, 'bbox': [1074.217, 723.929, 328.665, 494.728], 'score': 0.00741}\n",
      "{'image_id': '852ec6a0bcb9608ffee9b3fda0867f91', 'category_id': 6, 'bbox': [956.589, 953.994, 385.749, 326.935], 'score': 0.00166}\n",
      "{'image_id': '852ec6a0bcb9608ffee9b3fda0867f91', 'category_id': 6, 'bbox': [0.0, 2058.483, 416.021, 598.517], 'score': 0.00118}\n",
      "{'image_id': '852ec6a0bcb9608ffee9b3fda0867f91', 'category_id': 7, 'bbox': [1072.487, 748.146, 323.476, 524.135], 'score': 0.03198}\n",
      "{'image_id': '852ec6a0bcb9608ffee9b3fda0867f91', 'category_id': 7, 'bbox': [1301.688, 534.514, 224.876, 572.57], 'score': 0.0314}\n",
      "{'image_id': '852ec6a0bcb9608ffee9b3fda0867f91', 'category_id': 7, 'bbox': [1267.956, 394.398, 345.964, 408.237], 'score': 0.01049}\n",
      "{'image_id': '852ec6a0bcb9608ffee9b3fda0867f91', 'category_id': 7, 'bbox': [2018.697, 778.418, 788.797, 1518.78], 'score': 0.00356}\n",
      "{'image_id': '852ec6a0bcb9608ffee9b3fda0867f91', 'category_id': 7, 'bbox': [1281.795, 515.053, 226.606, 142.277], 'score': 0.0034}\n",
      "{'image_id': '852ec6a0bcb9608ffee9b3fda0867f91', 'category_id': 7, 'bbox': [1045.675, 504.242, 496.458, 472.24], 'score': 0.00294}\n",
      "{'image_id': '852ec6a0bcb9608ffee9b3fda0867f91', 'category_id': 7, 'bbox': [1409.802, 416.021, 262.932, 652.141], 'score': 0.00276}\n",
      "{'image_id': '852ec6a0bcb9608ffee9b3fda0867f91', 'category_id': 7, 'bbox': [819.934, 704.036, 619.275, 1293.904], 'score': 0.00256}\n",
      "{'image_id': '852ec6a0bcb9608ffee9b3fda0867f91', 'category_id': 7, 'bbox': [1728.088, 547.487, 238.715, 209.308], 'score': 0.00201}\n",
      "{'image_id': '852ec6a0bcb9608ffee9b3fda0867f91', 'category_id': 7, 'bbox': [2122.486, 1292.174, 958.319, 1364.826], 'score': 0.00171}\n",
      "{'image_id': '852ec6a0bcb9608ffee9b3fda0867f91', 'category_id': 7, 'bbox': [1892.421, 637.438, 667.71, 888.261], 'score': 0.00149}\n",
      "{'image_id': '852ec6a0bcb9608ffee9b3fda0867f91', 'category_id': 7, 'bbox': [821.663, 1631.218, 463.591, 404.777], 'score': 0.00145}\n",
      "{'image_id': '852ec6a0bcb9608ffee9b3fda0867f91', 'category_id': 7, 'bbox': [2992.584, 1501.482, 318.286, 276.771], 'score': 0.00123}\n",
      "{'image_id': '852ec6a0bcb9608ffee9b3fda0867f91', 'category_id': 7, 'bbox': [2136.325, 1549.917, 487.809, 570.84], 'score': 0.00118}\n",
      "{'image_id': '852ec6a0bcb9608ffee9b3fda0867f91', 'category_id': 7, 'bbox': [1686.572, 486.944, 449.753, 345.964], 'score': 0.00113}\n",
      "{'image_id': '852ec6a0bcb9608ffee9b3fda0867f91', 'category_id': 7, 'bbox': [757.66, 1318.986, 608.896, 822.528], 'score': 0.00112}\n",
      "{'image_id': '852ec6a0bcb9608ffee9b3fda0867f91', 'category_id': 7, 'bbox': [1100.164, 665.115, 356.342, 162.603], 'score': 0.0011}\n",
      "{'image_id': '852ec6a0bcb9608ffee9b3fda0867f91', 'category_id': 8, 'bbox': [1814.579, 298.394, 117.628, 120.222], 'score': 0.0047}\n",
      "{'image_id': '852ec6a0bcb9608ffee9b3fda0867f91', 'category_id': 8, 'bbox': [1301.688, 569.11, 230.066, 465.321], 'score': 0.00365}\n",
      "{'image_id': '852ec6a0bcb9608ffee9b3fda0867f91', 'category_id': 8, 'bbox': [1415.856, 425.968, 226.606, 316.124], 'score': 0.0032}\n",
      "{'image_id': '852ec6a0bcb9608ffee9b3fda0867f91', 'category_id': 8, 'bbox': [1070.757, 742.092, 335.585, 518.945], 'score': 0.0028}\n",
      "{'image_id': '852ec6a0bcb9608ffee9b3fda0867f91', 'category_id': 8, 'bbox': [2987.395, 1513.59, 321.746, 269.852], 'score': 0.00227}\n",
      "{'image_id': '852ec6a0bcb9608ffee9b3fda0867f91', 'category_id': 8, 'bbox': [1637.272, 877.882, 345.099, 409.967], 'score': 0.00112}\n",
      "{'image_id': '852ec6a0bcb9608ffee9b3fda0867f91', 'category_id': 9, 'bbox': [1408.072, 393.101, 243.904, 347.261], 'score': 0.16016}\n",
      "{'image_id': '852ec6a0bcb9608ffee9b3fda0867f91', 'category_id': 9, 'bbox': [1812.849, 297.096, 117.628, 118.492], 'score': 0.02829}\n",
      "{'image_id': '852ec6a0bcb9608ffee9b3fda0867f91', 'category_id': 9, 'bbox': [1312.067, 559.596, 211.038, 482.619], 'score': 0.02496}\n",
      "{'image_id': '852ec6a0bcb9608ffee9b3fda0867f91', 'category_id': 9, 'bbox': [1400.287, 488.673, 134.926, 181.631], 'score': 0.01478}\n",
      "{'image_id': '852ec6a0bcb9608ffee9b3fda0867f91', 'category_id': 9, 'bbox': [1435.749, 415.156, 323.476, 662.52], 'score': 0.00903}\n",
      "{'image_id': '852ec6a0bcb9608ffee9b3fda0867f91', 'category_id': 9, 'bbox': [1266.227, 370.613, 344.234, 482.187], 'score': 0.00699}\n",
      "{'image_id': '852ec6a0bcb9608ffee9b3fda0867f91', 'category_id': 9, 'bbox': [1279.2, 526.297, 223.146, 125.844], 'score': 0.00636}\n",
      "{'image_id': '852ec6a0bcb9608ffee9b3fda0867f91', 'category_id': 9, 'bbox': [1303.418, 313.962, 79.572, 87.356], 'score': 0.00475}\n",
      "{'image_id': '852ec6a0bcb9608ffee9b3fda0867f91', 'category_id': 9, 'bbox': [1234.225, 483.916, 339.044, 211.47], 'score': 0.00355}\n",
      "{'image_id': '852ec6a0bcb9608ffee9b3fda0867f91', 'category_id': 9, 'bbox': [1285.255, 856.26, 461.861, 1276.605], 'score': 0.00343}\n",
      "{'image_id': '852ec6a0bcb9608ffee9b3fda0867f91', 'category_id': 9, 'bbox': [1017.133, 736.902, 373.641, 570.84], 'score': 0.00291}\n",
      "{'image_id': '852ec6a0bcb9608ffee9b3fda0867f91', 'category_id': 9, 'bbox': [1314.661, 803.5, 641.762, 718.739], 'score': 0.00244}\n",
      "{'image_id': '852ec6a0bcb9608ffee9b3fda0867f91', 'category_id': 9, 'bbox': [1095.839, 1293.904, 931.507, 968.698], 'score': 0.00204}\n",
      "{'image_id': '852ec6a0bcb9608ffee9b3fda0867f91', 'category_id': 9, 'bbox': [1632.948, 880.477, 345.964, 396.128], 'score': 0.00188}\n",
      "{'image_id': '852ec6a0bcb9608ffee9b3fda0867f91', 'category_id': 9, 'bbox': [2186.49, 1111.408, 844.151, 1331.095], 'score': 0.00186}\n",
      "{'image_id': '852ec6a0bcb9608ffee9b3fda0867f91', 'category_id': 9, 'bbox': [1311.202, 612.355, 318.286, 832.042], 'score': 0.00183}\n",
      "{'image_id': '852ec6a0bcb9608ffee9b3fda0867f91', 'category_id': 9, 'bbox': [1665.814, 219.687, 128.007, 117.628], 'score': 0.00171}\n",
      "{'image_id': '852ec6a0bcb9608ffee9b3fda0867f91', 'category_id': 9, 'bbox': [1722.898, 535.379, 214.497, 226.606], 'score': 0.00167}\n",
      "{'image_id': '852ec6a0bcb9608ffee9b3fda0867f91', 'category_id': 9, 'bbox': [747.281, 979.942, 655.601, 1082.001], 'score': 0.00132}\n",
      "{'image_id': '852ec6a0bcb9608ffee9b3fda0867f91', 'category_id': 9, 'bbox': [1527.429, 399.588, 422.076, 444.563], 'score': 0.0012}\n",
      "{'image_id': '852ec6a0bcb9608ffee9b3fda0867f91', 'category_id': 10, 'bbox': [2484.018, 2127.676, 128.007, 200.659], 'score': 0.00176}\n",
      "{'image_id': '852ec6a0bcb9608ffee9b3fda0867f91', 'category_id': 10, 'bbox': [1070.757, 712.685, 307.908, 510.296], 'score': 0.00115}\n",
      "{'image_id': '852ec6a0bcb9608ffee9b3fda0867f91', 'category_id': 11, 'bbox': [1221.251, 541.0, 252.553, 92.978], 'score': 0.07843}\n",
      "{'image_id': '852ec6a0bcb9608ffee9b3fda0867f91', 'category_id': 11, 'bbox': [1059.513, 750.741, 321.746, 518.945], 'score': 0.04721}\n",
      "{'image_id': '852ec6a0bcb9608ffee9b3fda0867f91', 'category_id': 11, 'bbox': [1416.721, 418.616, 236.985, 300.988], 'score': 0.02353}\n",
      "{'image_id': '852ec6a0bcb9608ffee9b3fda0867f91', 'category_id': 11, 'bbox': [1226.441, 463.159, 349.423, 323.908], 'score': 0.00999}\n",
      "{'image_id': '852ec6a0bcb9608ffee9b3fda0867f91', 'category_id': 11, 'bbox': [1297.363, 530.622, 245.634, 467.483], 'score': 0.00747}\n",
      "{'image_id': '852ec6a0bcb9608ffee9b3fda0867f91', 'category_id': 11, 'bbox': [960.049, 961.779, 340.774, 252.553], 'score': 0.00588}\n",
      "{'image_id': '852ec6a0bcb9608ffee9b3fda0867f91', 'category_id': 11, 'bbox': [864.909, 603.706, 480.889, 477.43], 'score': 0.00566}\n",
      "{'image_id': '852ec6a0bcb9608ffee9b3fda0867f91', 'category_id': 11, 'bbox': [1824.958, 566.515, 245.634, 55.354], 'score': 0.00492}\n",
      "{'image_id': '852ec6a0bcb9608ffee9b3fda0867f91', 'category_id': 11, 'bbox': [1740.197, 530.189, 318.286, 195.469], 'score': 0.00464}\n",
      "{'image_id': '852ec6a0bcb9608ffee9b3fda0867f91', 'category_id': 11, 'bbox': [951.4, 721.334, 285.42, 280.23], 'score': 0.00459}\n",
      "{'image_id': '852ec6a0bcb9608ffee9b3fda0867f91', 'category_id': 11, 'bbox': [958.319, 980.807, 214.497, 147.034], 'score': 0.00454}\n",
      "{'image_id': '852ec6a0bcb9608ffee9b3fda0867f91', 'category_id': 11, 'bbox': [1977.182, 591.598, 875.288, 757.66], 'score': 0.0045}\n",
      "{'image_id': '852ec6a0bcb9608ffee9b3fda0867f91', 'category_id': 11, 'bbox': [923.723, 731.713, 537.973, 781.878], 'score': 0.00348}\n",
      "{'image_id': '852ec6a0bcb9608ffee9b3fda0867f91', 'category_id': 11, 'bbox': [1638.137, 879.612, 335.585, 399.588], 'score': 0.00337}\n",
      "{'image_id': '852ec6a0bcb9608ffee9b3fda0867f91', 'category_id': 11, 'bbox': [1946.045, 770.634, 1138.22, 1886.366], 'score': 0.00326}\n",
      "{'image_id': '852ec6a0bcb9608ffee9b3fda0867f91', 'category_id': 11, 'bbox': [1642.462, 542.298, 317.422, 273.311], 'score': 0.00314}\n",
      "{'image_id': '852ec6a0bcb9608ffee9b3fda0867f91', 'category_id': 11, 'bbox': [1010.214, 627.924, 249.094, 250.824], 'score': 0.00299}\n",
      "{'image_id': '852ec6a0bcb9608ffee9b3fda0867f91', 'category_id': 11, 'bbox': [1224.711, 450.618, 627.924, 883.937], 'score': 0.00296}\n",
      "{'image_id': '852ec6a0bcb9608ffee9b3fda0867f91', 'category_id': 11, 'bbox': [1023.187, 453.212, 515.486, 574.299], 'score': 0.00295}\n",
      "{'image_id': '852ec6a0bcb9608ffee9b3fda0867f91', 'category_id': 11, 'bbox': [1525.699, 478.295, 588.138, 508.566], 'score': 0.00263}\n",
      "{'image_id': '852ec6a0bcb9608ffee9b3fda0867f91', 'category_id': 11, 'bbox': [1818.038, 691.927, 411.697, 204.118], 'score': 0.00235}\n",
      "{'image_id': '852ec6a0bcb9608ffee9b3fda0867f91', 'category_id': 11, 'bbox': [1414.991, 426.4, 370.181, 600.247], 'score': 0.00232}\n",
      "{'image_id': '852ec6a0bcb9608ffee9b3fda0867f91', 'category_id': 11, 'bbox': [1078.541, 531.919, 358.072, 195.469], 'score': 0.00228}\n",
      "{'image_id': '852ec6a0bcb9608ffee9b3fda0867f91', 'category_id': 11, 'bbox': [1089.785, 676.359, 280.23, 276.771], 'score': 0.00225}\n",
      "{'image_id': '852ec6a0bcb9608ffee9b3fda0867f91', 'category_id': 11, 'bbox': [1985.831, 569.11, 567.38, 368.451], 'score': 0.00217}\n",
      "{'image_id': '852ec6a0bcb9608ffee9b3fda0867f91', 'category_id': 11, 'bbox': [1899.34, 704.036, 546.622, 501.647], 'score': 0.00196}\n",
      "{'image_id': '852ec6a0bcb9608ffee9b3fda0867f91', 'category_id': 11, 'bbox': [695.819, 656.466, 963.076, 1267.091], 'score': 0.00189}\n",
      "{'image_id': '852ec6a0bcb9608ffee9b3fda0867f91', 'category_id': 11, 'bbox': [1854.365, 789.662, 342.504, 257.743], 'score': 0.00176}\n",
      "{'image_id': '852ec6a0bcb9608ffee9b3fda0867f91', 'category_id': 11, 'bbox': [2034.265, 572.57, 266.392, 261.202], 'score': 0.00156}\n",
      "{'image_id': '852ec6a0bcb9608ffee9b3fda0867f91', 'category_id': 11, 'bbox': [2008.318, 689.332, 335.585, 236.985], 'score': 0.00152}\n",
      "{'image_id': '852ec6a0bcb9608ffee9b3fda0867f91', 'category_id': 11, 'bbox': [1176.276, 546.622, 192.01, 70.923], 'score': 0.00141}\n",
      "{'image_id': '852ec6a0bcb9608ffee9b3fda0867f91', 'category_id': 11, 'bbox': [1416.721, 660.79, 612.355, 984.266], 'score': 0.00137}\n",
      "{'image_id': '852ec6a0bcb9608ffee9b3fda0867f91', 'category_id': 11, 'bbox': [565.65, 545.757, 889.126, 762.85], 'score': 0.00133}\n",
      "{'image_id': '852ec6a0bcb9608ffee9b3fda0867f91', 'category_id': 11, 'bbox': [871.828, 801.771, 332.125, 347.693], 'score': 0.00124}\n",
      "{'image_id': '852ec6a0bcb9608ffee9b3fda0867f91', 'category_id': 11, 'bbox': [1726.358, 535.379, 470.51, 318.286], 'score': 0.00124}\n",
      "{'image_id': '852ec6a0bcb9608ffee9b3fda0867f91', 'category_id': 11, 'bbox': [1671.004, 754.2, 363.262, 320.016], 'score': 0.00123}\n",
      "{'image_id': '852ec6a0bcb9608ffee9b3fda0867f91', 'category_id': 11, 'bbox': [1436.614, 499.917, 1005.889, 819.934], 'score': 0.00122}\n",
      "{'image_id': '852ec6a0bcb9608ffee9b3fda0867f91', 'category_id': 11, 'bbox': [1261.902, 705.766, 292.339, 626.194], 'score': 0.00122}\n",
      "{'image_id': '852ec6a0bcb9608ffee9b3fda0867f91', 'category_id': 11, 'bbox': [1271.416, 1812.849, 1030.971, 359.802], 'score': 0.00114}\n",
      "{'image_id': '852ec6a0bcb9608ffee9b3fda0867f91', 'category_id': 11, 'bbox': [2023.886, 853.665, 515.486, 602.841], 'score': 0.00109}\n",
      "{'image_id': '852ec6a0bcb9608ffee9b3fda0867f91', 'category_id': 11, 'bbox': [2105.188, 695.387, 595.057, 326.936], 'score': 0.00101}\n",
      "{'image_id': '852ec6a0bcb9608ffee9b3fda0867f91', 'category_id': 13, 'bbox': [1072.487, 719.604, 337.314, 513.756], 'score': 0.11188}\n",
      "{'image_id': '852ec6a0bcb9608ffee9b3fda0867f91', 'category_id': 13, 'bbox': [889.991, 1738.467, 233.525, 262.932], 'score': 0.03506}\n",
      "{'image_id': '852ec6a0bcb9608ffee9b3fda0867f91', 'category_id': 13, 'bbox': [959.184, 977.347, 167.792, 131.466], 'score': 0.01311}\n",
      "{'image_id': '852ec6a0bcb9608ffee9b3fda0867f91', 'category_id': 13, 'bbox': [937.561, 910.749, 418.616, 430.725], 'score': 0.00954}\n",
      "{'image_id': '852ec6a0bcb9608ffee9b3fda0867f91', 'category_id': 13, 'bbox': [945.345, 969.563, 280.23, 200.659], 'score': 0.00916}\n",
      "{'image_id': '852ec6a0bcb9608ffee9b3fda0867f91', 'category_id': 13, 'bbox': [1069.027, 693.657, 252.553, 242.174], 'score': 0.00856}\n",
      "{'image_id': '852ec6a0bcb9608ffee9b3fda0867f91', 'category_id': 13, 'bbox': [841.556, 1651.976, 404.777, 384.02], 'score': 0.0074}\n",
      "{'image_id': '852ec6a0bcb9608ffee9b3fda0867f91', 'category_id': 13, 'bbox': [852.8, 738.632, 619.275, 1082.866], 'score': 0.00444}\n",
      "{'image_id': '852ec6a0bcb9608ffee9b3fda0867f91', 'category_id': 13, 'bbox': [1141.68, 889.126, 300.988, 579.489], 'score': 0.00267}\n",
      "{'image_id': '852ec6a0bcb9608ffee9b3fda0867f91', 'category_id': 13, 'bbox': [720.037, 1771.333, 407.805, 352.883], 'score': 0.002}\n",
      "{'image_id': '852ec6a0bcb9608ffee9b3fda0867f91', 'category_id': 13, 'bbox': [1218.656, 639.168, 307.908, 569.11], 'score': 0.00187}\n",
      "{'image_id': '852ec6a0bcb9608ffee9b3fda0867f91', 'category_id': 13, 'bbox': [968.698, 748.146, 306.178, 245.634], 'score': 0.00161}\n",
      "{'image_id': '852ec6a0bcb9608ffee9b3fda0867f91', 'category_id': 13, 'bbox': [1093.245, 726.523, 167.792, 119.357], 'score': 0.00159}\n",
      "{'image_id': '852ec6a0bcb9608ffee9b3fda0867f91', 'category_id': 13, 'bbox': [2172.651, 1236.82, 169.522, 131.466], 'score': 0.00151}\n",
      "{'image_id': '852ec6a0bcb9608ffee9b3fda0867f91', 'category_id': 13, 'bbox': [40.218, 474.402, 153.089, 96.437], 'score': 0.00139}\n",
      "{'image_id': '852ec6a0bcb9608ffee9b3fda0867f91', 'category_id': 13, 'bbox': [979.077, 1116.597, 323.476, 367.586], 'score': 0.00137}\n",
      "{'image_id': '852ec6a0bcb9608ffee9b3fda0867f91', 'category_id': 13, 'bbox': [1037.026, 770.634, 167.792, 147.035], 'score': 0.00125}\n",
      "{'image_id': '852ec6a0bcb9608ffee9b3fda0867f91', 'category_id': 13, 'bbox': [1150.329, 889.126, 223.146, 297.529], 'score': 0.00123}\n",
      "{'image_id': '852ec6a0bcb9608ffee9b3fda0867f91', 'category_id': 13, 'bbox': [1152.059, 1209.143, 345.964, 420.346], 'score': 0.00111}\n",
      "{'image_id': '852ec6a0bcb9608ffee9b3fda0867f91', 'category_id': 13, 'bbox': [723.929, 1598.352, 621.005, 685.008], 'score': 0.00102}\n"
     ]
    }
   ],
   "source": [
    "for anno in data_pred:\n",
    "    if anno['image_id'] == '852ec6a0bcb9608ffee9b3fda0867f91':\n",
    "        print(anno)"
   ]
  },
  {
   "cell_type": "code",
   "execution_count": 48,
   "id": "pretty-tiffany",
   "metadata": {},
   "outputs": [],
   "source": [
    "with open(anno_json, 'r') as dir:\n",
    "    data_anno = json.load(dir)"
   ]
  },
  {
   "cell_type": "code",
   "execution_count": 51,
   "id": "white-alias",
   "metadata": {},
   "outputs": [
    {
     "name": "stdout",
     "output_type": "stream",
     "text": [
      "{'area': 164102.39999999997, 'bbox': [1607.7, 887.0, 369.5999999999999, 444.0], 'category_id': 0, 'id': 2346, 'image_id': '852ec6a0bcb9608ffee9b3fda0867f91', 'iscrowd': 0}\n",
      "{'area': 360336.21999999986, 'bbox': [1271.7, 1864.3, 1031.3, 349.39999999999986], 'category_id': 3, 'id': 2347, 'image_id': '852ec6a0bcb9608ffee9b3fda0867f91', 'iscrowd': 0}\n",
      "{'area': 141602.25, 'bbox': [1424.0, 228.5, 261.5, 541.5], 'category_id': 9, 'id': 2348, 'image_id': '852ec6a0bcb9608ffee9b3fda0867f91', 'iscrowd': 0}\n",
      "{'area': 298116.0, 'bbox': [1149.0, 220.0, 468.0, 637.0], 'category_id': 9, 'id': 2349, 'image_id': '852ec6a0bcb9608ffee9b3fda0867f91', 'iscrowd': 0}\n",
      "{'area': 46440.0, 'bbox': [1040.0, 773.0, 270.0, 172.0], 'category_id': 13, 'id': 2350, 'image_id': '852ec6a0bcb9608ffee9b3fda0867f91', 'iscrowd': 0}\n",
      "{'area': 85500.0, 'bbox': [1176.0, 960.0, 228.0, 375.0], 'category_id': 13, 'id': 2351, 'image_id': '852ec6a0bcb9608ffee9b3fda0867f91', 'iscrowd': 0}\n",
      "{'area': 119637.0, 'bbox': [1451.0, 130.0, 189.0, 633.0], 'category_id': 7, 'id': 2352, 'image_id': '852ec6a0bcb9608ffee9b3fda0867f91', 'iscrowd': 0}\n",
      "{'area': 11904.0, 'bbox': [1256.0, 551.0, 186.0, 64.0], 'category_id': 11, 'id': 2353, 'image_id': '852ec6a0bcb9608ffee9b3fda0867f91', 'iscrowd': 0}\n"
     ]
    }
   ],
   "source": [
    "for anno in data_anno['annotations']:\n",
    "    if anno['image_id'] == '852ec6a0bcb9608ffee9b3fda0867f91':\n",
    "        print(anno)"
   ]
  },
  {
   "cell_type": "code",
   "execution_count": null,
   "id": "heard-obligation",
   "metadata": {},
   "outputs": [],
   "source": []
  }
 ],
 "metadata": {
  "kernelspec": {
   "display_name": "Python 3",
   "language": "python",
   "name": "python3"
  },
  "language_info": {
   "codemirror_mode": {
    "name": "ipython",
    "version": 3
   },
   "file_extension": ".py",
   "mimetype": "text/x-python",
   "name": "python",
   "nbconvert_exporter": "python",
   "pygments_lexer": "ipython3",
   "version": "3.7.10"
  }
 },
 "nbformat": 4,
 "nbformat_minor": 5
}
