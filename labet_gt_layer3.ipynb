{
 "cells": [
  {
   "cell_type": "code",
   "execution_count": 77,
   "id": "expensive-shield",
   "metadata": {},
   "outputs": [],
   "source": [
    "import torch\n",
    "import numpy as np\n",
    "import json\n",
    "import os\n",
    "import cv2\n",
    "import random\n",
    "import glob\n",
    "import matplotlib.pyplot as plt\n",
    "import seaborn as sns\n",
    "\n",
    "import pandas as pd\n",
    "\n",
    "import tqdm\n",
    "\n",
    "BLUE=(255, 0, 0)\n",
    "GREEN = (0, 255, 0)\n",
    "RED = (0, 0, 255)\n",
    "YELLOW = (0, 255, 255)\n",
    "PINK = (255, 0, 255)\n",
    "BLACK = (0, 0, 0)\n",
    "ORANGE = (0, 127, 255)\n",
    "CUSTOM = (255,170,170)\n",
    "COLOR_CLASS = {0: BLUE, 1:GREEN, 2:RED, 3:YELLOW, 4:PINK, 5:BLACK, 6:ORANGE, 7:CUSTOM}\n",
    "\n",
    "# def bb_intersection_over_union(boxA, boxB):\n",
    "#     xA = max(boxA[0], boxB[0])\n",
    "#     yA = max(boxA[1], boxB[1])\n",
    "#     xB = min(boxA[2], boxB[2])\n",
    "#     yB = min(boxA[3], boxB[3])\n",
    "#     interArea = max(0, xB - xA + 1) * max(0, yB - yA + 1)\n",
    "\n",
    "#     boxAArea = (boxA[2] - boxA[0] + 1) * (boxA[3] - boxA[1] + 1)\n",
    "#     boxBArea = (boxB[2] - boxB[0] + 1) * (boxB[3] - boxB[1] + 1)\n",
    "\n",
    "#     iou = interArea / float(boxAArea + boxBArea - interArea)\n",
    "#     return iou\n",
    "\n",
    "def cocoToAbsoluteBox(cocoBox):\n",
    "    #xywh -> xyxy\n",
    "    return [cocoBox[0], cocoBox[1], cocoBox[0]+cocoBox[2], cocoBox[1]+cocoBox[3]]\n",
    "\n",
    "\n",
    "# matplotlib \n",
    "def plot(key, list_bbox_):\n",
    "    fig = plt.figure(figsize=(15,10))\n",
    "\n",
    "    plt.hist(list_bbox_[key], color = 'blue', edgecolor = 'black',\n",
    "            bins = int(len(set(list_bbox_[key]))))\n",
    "\n",
    "    # Add labels\n",
    "    plt.title('Histogram of {}'.format(key))\n",
    "    plt.xlabel(key)\n",
    "    plt.ylabel('count')\n",
    "#     plt.savefig(\"d/{}_distribution.png\".format(key))\n",
    "\n",
    "\n",
    "def bb_intersection_over_union(bb1, bb2):\n",
    "    \"\"\"\n",
    "    Calculate the Intersection over Union (IoU) of two bounding boxes.\n",
    "\n",
    "    Parameters\n",
    "    ----------\n",
    "    bb1 : dict\n",
    "        Keys: {'x1', 'x2', 'y1', 'y2'}\n",
    "        The (x1, y1) position is at the top left corner,\n",
    "        the (x2, y2) position is at the bottom right corner\n",
    "    bb2 : dict\n",
    "        Keys: {'x1', 'x2', 'y1', 'y2'}\n",
    "        The (x, y) position is at the top left corner,\n",
    "        the (x2, y2) position is at the bottom right corner\n",
    "\n",
    "    Returns\n",
    "    -------\n",
    "    float\n",
    "        in [0, 1]\n",
    "    \"\"\"\n",
    "    bb1 = {'x1':bb1[0], 'x2':bb1[2], 'y1':bb1[1], 'y2':bb1[3]}\n",
    "    bb2 = {'x1':bb2[0], 'x2':bb2[2], 'y1':bb2[1], 'y2':bb2[3]}\n",
    "    assert bb1['x1'] < bb1['x2']\n",
    "    assert bb1['y1'] < bb1['y2']\n",
    "    assert bb2['x1'] < bb2['x2']\n",
    "    assert bb2['y1'] < bb2['y2']\n",
    "\n",
    "    # determine the coordinates of the intersection rectangle\n",
    "    x_left = max(bb1['x1'], bb2['x1'])\n",
    "    y_top = max(bb1['y1'], bb2['y1'])\n",
    "    x_right = min(bb1['x2'], bb2['x2'])\n",
    "    y_bottom = min(bb1['y2'], bb2['y2'])\n",
    "\n",
    "    if x_right < x_left or y_bottom < y_top:\n",
    "        return 0.0\n",
    "\n",
    "    # The intersection of two axis-aligned bounding boxes is always an\n",
    "    # axis-aligned bounding box\n",
    "    intersection_area = (x_right - x_left) * (y_bottom - y_top)\n",
    "\n",
    "    # compute the area of both AABBs\n",
    "    bb1_area = (bb1['x2'] - bb1['x1']) * (bb1['y2'] - bb1['y1'])\n",
    "    bb2_area = (bb2['x2'] - bb2['x1']) * (bb2['y2'] - bb2['y1'])\n",
    "\n",
    "    # compute the intersection over union by taking the intersection\n",
    "    # area and dividing it by the sum of prediction + ground-truth\n",
    "    # areas - the interesection area\n",
    "    iou = intersection_area / float(bb1_area + bb2_area - intersection_area)\n",
    "    assert iou >= 0.0\n",
    "    assert iou <= 1.0\n",
    "    return iou"
   ]
  },
  {
   "cell_type": "code",
   "execution_count": null,
   "id": "hungarian-viewer",
   "metadata": {},
   "outputs": [],
   "source": []
  },
  {
   "cell_type": "code",
   "execution_count": 78,
   "id": "substantial-chorus",
   "metadata": {},
   "outputs": [
    {
     "data": {
      "text/plain": [
       "0.0"
      ]
     },
     "execution_count": 78,
     "metadata": {},
     "output_type": "execute_result"
    }
   ],
   "source": [
    "x = [100,100,110,110]\n",
    "y = [90, 88,99,99]\n",
    "bb_intersection_over_union(y,x)"
   ]
  },
  {
   "cell_type": "markdown",
   "id": "settled-package",
   "metadata": {},
   "source": [
    "# load gt"
   ]
  },
  {
   "cell_type": "code",
   "execution_count": 79,
   "id": "remarkable-interpretation",
   "metadata": {},
   "outputs": [
    {
     "data": {
      "text/html": [
       "<div>\n",
       "<style scoped>\n",
       "    .dataframe tbody tr th:only-of-type {\n",
       "        vertical-align: middle;\n",
       "    }\n",
       "\n",
       "    .dataframe tbody tr th {\n",
       "        vertical-align: top;\n",
       "    }\n",
       "\n",
       "    .dataframe thead th {\n",
       "        text-align: right;\n",
       "    }\n",
       "</style>\n",
       "<table border=\"1\" class=\"dataframe\">\n",
       "  <thead>\n",
       "    <tr style=\"text-align: right;\">\n",
       "      <th></th>\n",
       "      <th>image_id</th>\n",
       "      <th>class_name</th>\n",
       "      <th>class_id</th>\n",
       "      <th>rad_id</th>\n",
       "      <th>x_min</th>\n",
       "      <th>y_min</th>\n",
       "      <th>x_max</th>\n",
       "      <th>y_max</th>\n",
       "      <th>fold</th>\n",
       "    </tr>\n",
       "  </thead>\n",
       "  <tbody>\n",
       "    <tr>\n",
       "      <th>0</th>\n",
       "      <td>1c32170b4af4ce1a3030eb8167753b06</td>\n",
       "      <td>Pleural thickening</td>\n",
       "      <td>11</td>\n",
       "      <td>R9</td>\n",
       "      <td>1780.0</td>\n",
       "      <td>361.0</td>\n",
       "      <td>2047.0</td>\n",
       "      <td>612.0</td>\n",
       "      <td>4</td>\n",
       "    </tr>\n",
       "    <tr>\n",
       "      <th>1</th>\n",
       "      <td>e7e8948818352b4d800dfac9a8999300</td>\n",
       "      <td>Pleural thickening</td>\n",
       "      <td>11</td>\n",
       "      <td>R9</td>\n",
       "      <td>599.0</td>\n",
       "      <td>303.0</td>\n",
       "      <td>885.0</td>\n",
       "      <td>366.0</td>\n",
       "      <td>4</td>\n",
       "    </tr>\n",
       "    <tr>\n",
       "      <th>2</th>\n",
       "      <td>53e2a10eb9969b0e336a51d11dda17f9</td>\n",
       "      <td>Pleural thickening</td>\n",
       "      <td>11</td>\n",
       "      <td>R8</td>\n",
       "      <td>1838.0</td>\n",
       "      <td>370.0</td>\n",
       "      <td>2416.0</td>\n",
       "      <td>897.0</td>\n",
       "      <td>1</td>\n",
       "    </tr>\n",
       "    <tr>\n",
       "      <th>3</th>\n",
       "      <td>5bf3368744630f459a499ccdccc9cdf1</td>\n",
       "      <td>Cardiomegaly</td>\n",
       "      <td>3</td>\n",
       "      <td>R10</td>\n",
       "      <td>1066.0</td>\n",
       "      <td>2026.0</td>\n",
       "      <td>2324.0</td>\n",
       "      <td>2586.0</td>\n",
       "      <td>0</td>\n",
       "    </tr>\n",
       "    <tr>\n",
       "      <th>4</th>\n",
       "      <td>0f186e3eba8d9ebd51feed957204ddbf</td>\n",
       "      <td>Cardiomegaly</td>\n",
       "      <td>3</td>\n",
       "      <td>R8</td>\n",
       "      <td>1192.0</td>\n",
       "      <td>1695.0</td>\n",
       "      <td>2321.0</td>\n",
       "      <td>2009.0</td>\n",
       "      <td>1</td>\n",
       "    </tr>\n",
       "  </tbody>\n",
       "</table>\n",
       "</div>"
      ],
      "text/plain": [
       "                           image_id          class_name  class_id rad_id  \\\n",
       "0  1c32170b4af4ce1a3030eb8167753b06  Pleural thickening        11     R9   \n",
       "1  e7e8948818352b4d800dfac9a8999300  Pleural thickening        11     R9   \n",
       "2  53e2a10eb9969b0e336a51d11dda17f9  Pleural thickening        11     R8   \n",
       "3  5bf3368744630f459a499ccdccc9cdf1        Cardiomegaly         3    R10   \n",
       "4  0f186e3eba8d9ebd51feed957204ddbf        Cardiomegaly         3     R8   \n",
       "\n",
       "    x_min   y_min   x_max   y_max  fold  \n",
       "0  1780.0   361.0  2047.0   612.0     4  \n",
       "1   599.0   303.0   885.0   366.0     4  \n",
       "2  1838.0   370.0  2416.0   897.0     1  \n",
       "3  1066.0  2026.0  2324.0  2586.0     0  \n",
       "4  1192.0  1695.0  2321.0  2009.0     1  "
      ]
     },
     "execution_count": 79,
     "metadata": {},
     "output_type": "execute_result"
    }
   ],
   "source": [
    "df_gt = pd.read_csv('//home/hana/sonnh/kaggle-vin/dataset/images_only/train_only_box.csv')\n",
    "df_gt.head()"
   ]
  },
  {
   "cell_type": "code",
   "execution_count": 80,
   "id": "smoking-greensboro",
   "metadata": {},
   "outputs": [],
   "source": [
    "data_gt = {}\n",
    "for i in range(len(df_gt)):\n",
    "    image_id = df_gt.iloc[i]['image_id']\n",
    "    if image_id not in data_gt:\n",
    "        data_gt[image_id] = []\n",
    "    \n",
    "    xmin = df_gt.iloc[i]['x_min']\n",
    "    xmax = df_gt.iloc[i]['x_max']\n",
    "    ymin = df_gt.iloc[i]['y_min']\n",
    "    ymax = df_gt.iloc[i]['y_max']\n",
    "    class_id = df_gt.iloc[i]['class_id']\n",
    "    data_gt[image_id].append([xmin, ymin, xmax, ymax, class_id])\n"
   ]
  },
  {
   "cell_type": "markdown",
   "id": "loving-balloon",
   "metadata": {},
   "source": [
    "# data gt to data_layer 3"
   ]
  },
  {
   "cell_type": "code",
   "execution_count": 97,
   "id": "appreciated-consumer",
   "metadata": {},
   "outputs": [],
   "source": [
    "def data_gt_to_layer3(df_gt, fold):\n",
    "    df_gt_fold = df_gt[df_gt['fold'] == (fold-1)]\n",
    "    \n",
    "    print('positive {}'.format(len(df_gt_fold)))\n",
    "    \n",
    "    df_gt_to_layer3 = {}\n",
    "    for i in range(len(df_gt_fold)):\n",
    "\n",
    "        image_id = df_gt_fold.iloc[i]['image_id']\n",
    "        if image_id not in df_gt_to_layer3:\n",
    "            df_gt_to_layer3[image_id] = {'bbox':[], 'label':[], 'conf':[], 'yolo_label' :[]}\n",
    "\n",
    "        xmin, ymin, xmax, ymax = int(df_gt_fold.iloc[i]['x_min']), int(df_gt_fold.iloc[i]['y_min']), int(df_gt_fold.iloc[i]['x_max']), int(df_gt_fold.iloc[i]['y_max'])\n",
    "\n",
    "        df_gt_to_layer3[image_id]['bbox'].append([xmin, ymin, xmax, ymax])\n",
    "        df_gt_to_layer3[image_id]['label'].append([int(df_gt_fold.iloc[i]['class_id'])])\n",
    "\n",
    "        yolo_class = [0]*14\n",
    "        yolo_class[int(df_gt_fold.iloc[i]['class_id'])] = 1\n",
    "        df_gt_to_layer3[image_id]['yolo_label'].append(yolo_class)\n",
    "        \n",
    "        \n",
    "\n",
    "        conf = [0] * 14\n",
    "        conf[int(df_gt_fold.iloc[i]['class_id'])] = 1\n",
    "        \n",
    "        df_gt_to_layer3[image_id]['conf'].append(conf)\n",
    "    return df_gt_to_layer3\n"
   ]
  },
  {
   "cell_type": "markdown",
   "id": "other-intake",
   "metadata": {},
   "source": [
    "# data predict"
   ]
  },
  {
   "cell_type": "code",
   "execution_count": 98,
   "id": "studied-finance",
   "metadata": {
    "tags": []
   },
   "outputs": [],
   "source": [
    "def create_data_predict(data):\n",
    "    data_predict = {}\n",
    "    for anno in data:\n",
    "    #     {'image_id': '852ec6a0bcb9608ffee9b3fda0867f91', 'category_id': 0, 'bbox': [1632.083, 878.747, 348.558, 422.076], 'score': 0.74072, conf:[]}\n",
    "        image_id = anno['image_id']\n",
    "        if image_id not in data_predict:\n",
    "            data_predict[image_id] = {}\n",
    "            data_predict[image_id]['bbox'] = []   \n",
    "            data_predict[image_id]['label'] = []   \n",
    "            data_predict[image_id]['conf'] = []   \n",
    "            data_predict[image_id]['yolo_label'] = []   \n",
    "\n",
    "        xmin = int(anno['bbox'][0])\n",
    "        ymin = int(anno['bbox'][1])\n",
    "        w = int(anno['bbox'][2])\n",
    "        h = int(anno['bbox'][3])\n",
    "\n",
    "        if w < 10 or h < 10:\n",
    "            continue\n",
    "\n",
    "        xmax = xmin + w\n",
    "        ymax = ymin + h\n",
    "        data_predict[image_id]['bbox'].append([xmin, ymin, xmax, ymax])\n",
    "        data_predict[image_id]['conf'].append(anno['conf'])\n",
    "        \n",
    "        yolo_class = [0]*14\n",
    "        yolo_class[anno['category_id']] = 1\n",
    "        data_predict[image_id]['yolo_label'].append(yolo_class)\n",
    "        \n",
    "    return data_predict"
   ]
  },
  {
   "cell_type": "markdown",
   "id": "removable-webster",
   "metadata": {},
   "source": [
    "# create data layer3"
   ]
  },
  {
   "cell_type": "code",
   "execution_count": 99,
   "id": "secret-consultation",
   "metadata": {},
   "outputs": [],
   "source": [
    "from tqdm import tqdm"
   ]
  },
  {
   "cell_type": "code",
   "execution_count": 100,
   "id": "minus-makeup",
   "metadata": {},
   "outputs": [],
   "source": [
    "# data_layer_3\n",
    "def thong_ke_layer_3(data_gt, data_predict, no_box = False):\n",
    "    c = 0\n",
    "    list_c_ = []\n",
    "    data_label = {}\n",
    "#     for image_id in tqdm(data_predict):\n",
    "    for image_id in data_predict:\n",
    "        for i, bbox in enumerate(data_predict[image_id]['bbox']):\n",
    "            data_predict[image_id]['label'].append([])\n",
    "            check = False\n",
    "            c_ = 0\n",
    "            if not no_box:\n",
    "                for bbox_gt in data_gt[image_id]:\n",
    "                    if bb_intersection_over_union(bbox, bbox_gt)> 0.4:\n",
    "                        check = True\n",
    "                        data_predict[image_id]['label'][i].append(bbox_gt[-1])\n",
    "\n",
    "                        c_ += 1\n",
    "\n",
    "            list_c_.append(c_)\n",
    "            if  check: c += 1\n",
    "        \n",
    "    print('negative {} positive {}'.format(list_c_.count(0), c))\n",
    "    return data_predict"
   ]
  },
  {
   "cell_type": "markdown",
   "id": "pointed-health",
   "metadata": {},
   "source": [
    "# remove box"
   ]
  },
  {
   "cell_type": "code",
   "execution_count": 75,
   "id": "superior-rwanda",
   "metadata": {
    "tags": []
   },
   "outputs": [
    {
     "name": "stdout",
     "output_type": "stream",
     "text": [
      "{'image_id': '91e721ea0143333c5efe5dfb8ca98746', 'category_id': 0, 'bbox': [1537.177, 288.766, 270.241, 305.474], 'score': 0.38208, 'conf': [0.382080078125, 0.00045943260192871094, 0.0007810592651367188, 0.0014448165893554688, 0.0003781318664550781, 0.00043845176696777344, 0.0005965232849121094, 0.0007138252258300781, 0.0007305145263671875, 0.0011892318725585938, 0.0003108978271484375, 0.0004968643188476562, 0.00030732154846191406, 0.0008053779602050781]}\n"
     ]
    }
   ],
   "source": [
    "json_path = '/home/hana/sonnh/kaggle-vin/final/1920_pretrain_train_all/runs_eval_layer3/fold{}.json'.format(fold)\n",
    "data = json.load(open(json_path, 'r'))\n",
    "data_overlay = {}\n",
    "for anno in data:\n",
    "    print(anno)\n",
    "#     image_id = \n",
    "#     data_overlay\n",
    "    break"
   ]
  },
  {
   "cell_type": "code",
   "execution_count": null,
   "id": "eastern-contributor",
   "metadata": {},
   "outputs": [],
   "source": [
    "def remove_box(data):\n",
    "    for anno in data:\n",
    "        "
   ]
  },
  {
   "cell_type": "markdown",
   "id": "suited-gambling",
   "metadata": {},
   "source": [
    "# run"
   ]
  },
  {
   "cell_type": "code",
   "execution_count": 106,
   "id": "consolidated-greensboro",
   "metadata": {},
   "outputs": [
    {
     "name": "stdout",
     "output_type": "stream",
     "text": [
      "yolo predict\n",
      "negative 31800 positive 15298\n",
      "gt\n",
      "positive 7220\n",
      "yolo predict no box\n",
      "negative 15092 positive 0\n",
      "\n"
     ]
    }
   ],
   "source": [
    "### for fold in [1,2,3,4, 5]:\n",
    "fold = 1\n",
    "print('yolo predict')\n",
    "json_path = '/home/hana/sonnh/kaggle-vin/final/1920_pretrain_train_all/runs_eval_layer3/fold{}.json'.format(fold)\n",
    "data = json.load(open(json_path, 'r'))\n",
    "data_predict = create_data_predict(data)\n",
    "data_predict = thong_ke_layer_3(data_gt, data_predict, no_box =False)\n",
    "# # negative 61531 positive 20640\n",
    "# # negative 79545 positive 23146\n",
    "# # negative 50836 positive 19810\n",
    "# # negative 69187 positive 21270\n",
    "# # negative 89664 positive 19791\n",
    "\n",
    "print('gt')\n",
    "df_gt = pd.read_csv('//home/hana/sonnh/kaggle-vin/dataset/images_only/train_only_box.csv')\n",
    "data_gt_fold = data_gt_to_layer3(df_gt, fold)\n",
    "for image_id in data_gt_fold:\n",
    "    data_predict[image_id]['bbox'] += data_gt_fold[image_id]['bbox']\n",
    "    data_predict[image_id]['conf'] += data_gt_fold[image_id]['conf']\n",
    "    data_predict[image_id]['label'] += data_gt_fold[image_id]['label']\n",
    "    data_predict[image_id]['yolo_label'] += data_gt_fold[image_id]['yolo_label']\n",
    "\n",
    "print('yolo predict no box')\n",
    "json_path = '/home/hana/sonnh/kaggle-vin/final/1920_pretrain_train_all/runs_eval_layer3_nobox/fold{}_0.005.json'.format(fold)\n",
    "# negative 16223 positive 0\n",
    "# negative 18981 positive 0\n",
    "# negative 12356 positive 0\n",
    "# negative 19965 positive 0\n",
    "# negative 22919 positive 0\n",
    "data = json.load(open(json_path, 'r'))\n",
    "data_predict_no_box = create_data_predict(data)\n",
    "data_predict_no_box = thong_ke_layer_3(data_gt, data_predict_no_box, no_box =True)\n",
    "\n",
    "data_predict.update(data_predict_no_box)\n",
    "\n",
    "\n",
    "print()"
   ]
  },
  {
   "cell_type": "markdown",
   "id": "incredible-beijing",
   "metadata": {},
   "source": [
    "# cut image"
   ]
  },
  {
   "cell_type": "code",
   "execution_count": 107,
   "id": "analyzed-pierce",
   "metadata": {},
   "outputs": [],
   "source": [
    "def cut_data(image_id):\n",
    "    image_dir = '/home/hana/sonnh/kaggle-vin/dataset/images_only/train_jpg/'\n",
    "    l3_dir = '/home/hana/sonnh/kaggle-vin/dataset/layer_3_1920_kfold/data_cut/fold1'\n",
    "    \n",
    "    img_ori = cv2.imread('{}/{}.jpg'.format(image_dir, image_id))\n",
    "    height, width = img_ori.shape[:2]\n",
    "    \n",
    "    gt = []\n",
    "    \n",
    "    for i in range(len(data_predict[image_id]['bbox'])):\n",
    "        \n",
    "        anno_gt = {'image_id': '{}_{}'.format(image_id, i)}\n",
    "        \n",
    "        anno = data_predict[image_id]['bbox'][i]\n",
    "        label = data_predict[image_id]['label'][i]\n",
    "        \n",
    "        xmin, ymin, xmax, ymax = anno\n",
    "        small_image = img_ori[ymin:ymax, xmin:xmax]\n",
    "        small_image = cv2.resize(small_image, (256, 256))\n",
    "        \n",
    "        cv2.imwrite('{}/{}_{}.jpg'.format(l3_dir, image_id, i), small_image)\n",
    "\n",
    "        list_label= [0]*15\n",
    "        if len(label) == 0:\n",
    "            list_label[-1] = 1\n",
    "            \n",
    "        for singe_label in label:\n",
    "            list_label[singe_label] += 1\n",
    "            \n",
    "        anno_gt['label'] = list_label\n",
    "        \n",
    "        xmin /= width\n",
    "        xmax /= width\n",
    "        ymin /= height\n",
    "        ymax /= height\n",
    "        anno_gt['conf'] = data_predict[image_id]['conf'][i] + [xmin, ymin, xmax, ymax]\n",
    "        gt.append(anno_gt)\n",
    "    return gt"
   ]
  },
  {
   "cell_type": "code",
   "execution_count": 108,
   "id": "optional-attitude",
   "metadata": {
    "tags": []
   },
   "outputs": [],
   "source": [
    "import os\n",
    "from multiprocessing import Pool\n",
    "\n",
    "pool = Pool()\n",
    "data = pool.map(cut_data, list(data_predict.keys()))"
   ]
  },
  {
   "cell_type": "code",
   "execution_count": 109,
   "id": "australian-punishment",
   "metadata": {},
   "outputs": [
    {
     "data": {
      "text/plain": [
       "69410"
      ]
     },
     "execution_count": 109,
     "metadata": {},
     "output_type": "execute_result"
    }
   ],
   "source": [
    "data_final = []\n",
    "for i in range(len(data)):\n",
    "    data_final += data[i]\n",
    "len(data_final)\n",
    "\n",
    "#1 48384\n",
    "#2 48070\n",
    "#3 48469\n",
    "#4 48577\n",
    "#5 49121"
   ]
  },
  {
   "cell_type": "code",
   "execution_count": 48,
   "id": "hungarian-relation",
   "metadata": {},
   "outputs": [],
   "source": [
    "json_path = '/home/hana/sonnh/kaggle-vin/dataset/layer_3/data_cut_from_pretrain_all_5fold/anno/fold_{}.json'.format(fold)\n",
    "with open(json_path, 'w') as out_file:\n",
    "    json.dump(data_final, out_file)"
   ]
  },
  {
   "cell_type": "code",
   "execution_count": null,
   "id": "postal-membership",
   "metadata": {},
   "outputs": [],
   "source": []
  }
 ],
 "metadata": {
  "kernelspec": {
   "display_name": "Python 3",
   "language": "python",
   "name": "python3"
  },
  "language_info": {
   "codemirror_mode": {
    "name": "ipython",
    "version": 3
   },
   "file_extension": ".py",
   "mimetype": "text/x-python",
   "name": "python",
   "nbconvert_exporter": "python",
   "pygments_lexer": "ipython3",
   "version": "3.6.9"
  }
 },
 "nbformat": 4,
 "nbformat_minor": 5
}
