{
 "cells": [
  {
   "cell_type": "code",
   "execution_count": 1,
   "metadata": {},
   "outputs": [],
   "source": [
    "import torch\n",
    "import numpy as np\n",
    "import json\n",
    "import os\n",
    "import cv2\n",
    "import random\n",
    "import glob\n",
    "import matplotlib.pyplot as plt\n",
    "import seaborn as sns\n",
    "\n",
    "import pandas as pd\n",
    "\n",
    "import tqdm\n",
    "\n",
    "BLUE=(255, 0, 0)\n",
    "GREEN = (0, 255, 0)\n",
    "RED = (0, 0, 255)\n",
    "YELLOW = (0, 255, 255)\n",
    "PINK = (255, 0, 255)\n",
    "BLACK = (0, 0, 0)\n",
    "ORANGE = (0, 127, 255)\n",
    "CUSTOM = (255,170,170)\n",
    "COLOR_CLASS = {0: BLUE, 1:GREEN, 2:RED, 3:YELLOW, 4:PINK, 5:BLACK, 6:ORANGE, 7:CUSTOM}\n",
    "\n",
    "def bb_intersection_over_union(boxA, boxB):\n",
    "    xA = max(boxA[0], boxB[0])\n",
    "    yA = max(boxA[1], boxB[1])\n",
    "    xB = min(boxA[2], boxB[2])\n",
    "    yB = min(boxA[3], boxB[3])\n",
    "\n",
    "    interArea = max(0, xB - xA + 1) * max(0, yB - yA + 1)\n",
    "\n",
    "    boxAArea = (boxA[2] - boxA[0] + 1) * (boxA[3] - boxA[1] + 1)\n",
    "    boxBArea = (boxB[2] - boxB[0] + 1) * (boxB[3] - boxB[1] + 1)\n",
    "\n",
    "    iou = interArea / float(boxAArea + boxBArea - interArea)\n",
    "    return iou\n",
    "\n",
    "def cocoToAbsoluteBox(cocoBox):\n",
    "    #xywh -> xyxy\n",
    "    return [cocoBox[0], cocoBox[1], cocoBox[0]+cocoBox[2], cocoBox[1]+cocoBox[3]]\n",
    "\n",
    "\n",
    "# matplotlib \n",
    "def plot(key, list_bbox_):\n",
    "    fig = plt.figure(figsize=(15,10))\n",
    "\n",
    "    plt.hist(list_bbox_[key], color = 'blue', edgecolor = 'black',\n",
    "            bins = int(len(set(list_bbox_[key]))))\n",
    "\n",
    "    # Add labels\n",
    "    plt.title('Histogram of {}'.format(key))\n",
    "    plt.xlabel(key)\n",
    "    plt.ylabel('count')\n",
    "#     plt.savefig(\"d/{}_distribution.png\".format(key))"
   ]
  },
  {
   "cell_type": "code",
   "execution_count": 2,
   "metadata": {},
   "outputs": [],
   "source": [
    "df = pd.read_csv('/home/hana/sonnh/kaggle-vin/dataset/original_data/train.csv')"
   ]
  },
  {
   "cell_type": "code",
   "execution_count": 3,
   "metadata": {},
   "outputs": [
    {
     "data": {
      "text/html": [
       "<div>\n",
       "<style scoped>\n",
       "    .dataframe tbody tr th:only-of-type {\n",
       "        vertical-align: middle;\n",
       "    }\n",
       "\n",
       "    .dataframe tbody tr th {\n",
       "        vertical-align: top;\n",
       "    }\n",
       "\n",
       "    .dataframe thead th {\n",
       "        text-align: right;\n",
       "    }\n",
       "</style>\n",
       "<table border=\"1\" class=\"dataframe\">\n",
       "  <thead>\n",
       "    <tr style=\"text-align: right;\">\n",
       "      <th></th>\n",
       "      <th>image_id</th>\n",
       "      <th>class_name</th>\n",
       "      <th>class_id</th>\n",
       "      <th>rad_id</th>\n",
       "      <th>x_min</th>\n",
       "      <th>y_min</th>\n",
       "      <th>x_max</th>\n",
       "      <th>y_max</th>\n",
       "    </tr>\n",
       "  </thead>\n",
       "  <tbody>\n",
       "    <tr>\n",
       "      <th>0</th>\n",
       "      <td>50a418190bc3fb1ef1633bf9678929b3</td>\n",
       "      <td>No finding</td>\n",
       "      <td>14</td>\n",
       "      <td>R11</td>\n",
       "      <td>NaN</td>\n",
       "      <td>NaN</td>\n",
       "      <td>NaN</td>\n",
       "      <td>NaN</td>\n",
       "    </tr>\n",
       "    <tr>\n",
       "      <th>1</th>\n",
       "      <td>21a10246a5ec7af151081d0cd6d65dc9</td>\n",
       "      <td>No finding</td>\n",
       "      <td>14</td>\n",
       "      <td>R7</td>\n",
       "      <td>NaN</td>\n",
       "      <td>NaN</td>\n",
       "      <td>NaN</td>\n",
       "      <td>NaN</td>\n",
       "    </tr>\n",
       "    <tr>\n",
       "      <th>2</th>\n",
       "      <td>9a5094b2563a1ef3ff50dc5c7ff71345</td>\n",
       "      <td>Cardiomegaly</td>\n",
       "      <td>3</td>\n",
       "      <td>R10</td>\n",
       "      <td>691.0</td>\n",
       "      <td>1375.0</td>\n",
       "      <td>1653.0</td>\n",
       "      <td>1831.0</td>\n",
       "    </tr>\n",
       "    <tr>\n",
       "      <th>3</th>\n",
       "      <td>051132a778e61a86eb147c7c6f564dfe</td>\n",
       "      <td>Aortic enlargement</td>\n",
       "      <td>0</td>\n",
       "      <td>R10</td>\n",
       "      <td>1264.0</td>\n",
       "      <td>743.0</td>\n",
       "      <td>1611.0</td>\n",
       "      <td>1019.0</td>\n",
       "    </tr>\n",
       "    <tr>\n",
       "      <th>4</th>\n",
       "      <td>063319de25ce7edb9b1c6b8881290140</td>\n",
       "      <td>No finding</td>\n",
       "      <td>14</td>\n",
       "      <td>R10</td>\n",
       "      <td>NaN</td>\n",
       "      <td>NaN</td>\n",
       "      <td>NaN</td>\n",
       "      <td>NaN</td>\n",
       "    </tr>\n",
       "  </tbody>\n",
       "</table>\n",
       "</div>"
      ],
      "text/plain": [
       "                           image_id          class_name  class_id rad_id  \\\n",
       "0  50a418190bc3fb1ef1633bf9678929b3          No finding        14    R11   \n",
       "1  21a10246a5ec7af151081d0cd6d65dc9          No finding        14     R7   \n",
       "2  9a5094b2563a1ef3ff50dc5c7ff71345        Cardiomegaly         3    R10   \n",
       "3  051132a778e61a86eb147c7c6f564dfe  Aortic enlargement         0    R10   \n",
       "4  063319de25ce7edb9b1c6b8881290140          No finding        14    R10   \n",
       "\n",
       "    x_min   y_min   x_max   y_max  \n",
       "0     NaN     NaN     NaN     NaN  \n",
       "1     NaN     NaN     NaN     NaN  \n",
       "2   691.0  1375.0  1653.0  1831.0  \n",
       "3  1264.0   743.0  1611.0  1019.0  \n",
       "4     NaN     NaN     NaN     NaN  "
      ]
     },
     "execution_count": 3,
     "metadata": {},
     "output_type": "execute_result"
    }
   ],
   "source": [
    "df.head()"
   ]
  },
  {
   "cell_type": "code",
   "execution_count": 2,
   "metadata": {},
   "outputs": [],
   "source": [
    "df = pd.read_csv('/home/hana/sonnh/kaggle-vin/dataset/images_only/train_only_box.csv')\n",
    "# df = pd.read_csv('/home/hana/sonnh/kaggle-vin/dataset/images_only/train_only_box_merge_box.csv')"
   ]
  },
  {
   "cell_type": "code",
   "execution_count": 3,
   "metadata": {},
   "outputs": [
    {
     "data": {
      "text/html": [
       "<div>\n",
       "<style scoped>\n",
       "    .dataframe tbody tr th:only-of-type {\n",
       "        vertical-align: middle;\n",
       "    }\n",
       "\n",
       "    .dataframe tbody tr th {\n",
       "        vertical-align: top;\n",
       "    }\n",
       "\n",
       "    .dataframe thead th {\n",
       "        text-align: right;\n",
       "    }\n",
       "</style>\n",
       "<table border=\"1\" class=\"dataframe\">\n",
       "  <thead>\n",
       "    <tr style=\"text-align: right;\">\n",
       "      <th></th>\n",
       "      <th>image_id</th>\n",
       "      <th>class_name</th>\n",
       "      <th>class_id</th>\n",
       "      <th>rad_id</th>\n",
       "      <th>x_min</th>\n",
       "      <th>y_min</th>\n",
       "      <th>x_max</th>\n",
       "      <th>y_max</th>\n",
       "      <th>fold</th>\n",
       "    </tr>\n",
       "  </thead>\n",
       "  <tbody>\n",
       "    <tr>\n",
       "      <th>0</th>\n",
       "      <td>1c32170b4af4ce1a3030eb8167753b06</td>\n",
       "      <td>Pleural thickening</td>\n",
       "      <td>11</td>\n",
       "      <td>R9</td>\n",
       "      <td>1780.0</td>\n",
       "      <td>361.0</td>\n",
       "      <td>2047.0</td>\n",
       "      <td>612.0</td>\n",
       "      <td>4</td>\n",
       "    </tr>\n",
       "    <tr>\n",
       "      <th>1</th>\n",
       "      <td>e7e8948818352b4d800dfac9a8999300</td>\n",
       "      <td>Pleural thickening</td>\n",
       "      <td>11</td>\n",
       "      <td>R9</td>\n",
       "      <td>599.0</td>\n",
       "      <td>303.0</td>\n",
       "      <td>885.0</td>\n",
       "      <td>366.0</td>\n",
       "      <td>4</td>\n",
       "    </tr>\n",
       "    <tr>\n",
       "      <th>2</th>\n",
       "      <td>53e2a10eb9969b0e336a51d11dda17f9</td>\n",
       "      <td>Pleural thickening</td>\n",
       "      <td>11</td>\n",
       "      <td>R8</td>\n",
       "      <td>1838.0</td>\n",
       "      <td>370.0</td>\n",
       "      <td>2416.0</td>\n",
       "      <td>897.0</td>\n",
       "      <td>1</td>\n",
       "    </tr>\n",
       "    <tr>\n",
       "      <th>3</th>\n",
       "      <td>5bf3368744630f459a499ccdccc9cdf1</td>\n",
       "      <td>Cardiomegaly</td>\n",
       "      <td>3</td>\n",
       "      <td>R10</td>\n",
       "      <td>1066.0</td>\n",
       "      <td>2026.0</td>\n",
       "      <td>2324.0</td>\n",
       "      <td>2586.0</td>\n",
       "      <td>0</td>\n",
       "    </tr>\n",
       "    <tr>\n",
       "      <th>4</th>\n",
       "      <td>0f186e3eba8d9ebd51feed957204ddbf</td>\n",
       "      <td>Cardiomegaly</td>\n",
       "      <td>3</td>\n",
       "      <td>R8</td>\n",
       "      <td>1192.0</td>\n",
       "      <td>1695.0</td>\n",
       "      <td>2321.0</td>\n",
       "      <td>2009.0</td>\n",
       "      <td>1</td>\n",
       "    </tr>\n",
       "  </tbody>\n",
       "</table>\n",
       "</div>"
      ],
      "text/plain": [
       "                           image_id          class_name  class_id rad_id  \\\n",
       "0  1c32170b4af4ce1a3030eb8167753b06  Pleural thickening        11     R9   \n",
       "1  e7e8948818352b4d800dfac9a8999300  Pleural thickening        11     R9   \n",
       "2  53e2a10eb9969b0e336a51d11dda17f9  Pleural thickening        11     R8   \n",
       "3  5bf3368744630f459a499ccdccc9cdf1        Cardiomegaly         3    R10   \n",
       "4  0f186e3eba8d9ebd51feed957204ddbf        Cardiomegaly         3     R8   \n",
       "\n",
       "    x_min   y_min   x_max   y_max  fold  \n",
       "0  1780.0   361.0  2047.0   612.0     4  \n",
       "1   599.0   303.0   885.0   366.0     4  \n",
       "2  1838.0   370.0  2416.0   897.0     1  \n",
       "3  1066.0  2026.0  2324.0  2586.0     0  \n",
       "4  1192.0  1695.0  2321.0  2009.0     1  "
      ]
     },
     "execution_count": 3,
     "metadata": {},
     "output_type": "execute_result"
    }
   ],
   "source": [
    "df.head()"
   ]
  },
  {
   "cell_type": "code",
   "execution_count": 15,
   "metadata": {},
   "outputs": [
    {
     "name": "stdout",
     "output_type": "stream",
     "text": [
      "RAD ID  0\n",
      "Series([], Name: class_id, dtype: int64)\n",
      "RAD ID  1\n",
      "Series([], Name: class_id, dtype: int64)\n",
      "RAD ID  2\n",
      "5    2\n",
      "2    1\n",
      "Name: class_id, dtype: int64\n",
      "RAD ID  3\n",
      "Series([], Name: class_id, dtype: int64)\n",
      "RAD ID  4\n",
      "Series([], Name: class_id, dtype: int64)\n",
      "RAD ID  5\n",
      "Series([], Name: class_id, dtype: int64)\n",
      "RAD ID  6\n",
      "Series([], Name: class_id, dtype: int64)\n",
      "RAD ID  7\n",
      "Series([], Name: class_id, dtype: int64)\n",
      "RAD ID  8\n",
      "0     2066\n",
      "3     1765\n",
      "13    1341\n",
      "11    1089\n",
      "8      745\n",
      "10     560\n",
      "9      414\n",
      "6      412\n",
      "7      411\n",
      "2      321\n",
      "5      303\n",
      "4      228\n",
      "12      70\n",
      "1       37\n",
      "Name: class_id, dtype: int64\n",
      "RAD ID  9\n",
      "0     2541\n",
      "11    2466\n",
      "13    1757\n",
      "3     1668\n",
      "10    1045\n",
      "7     1042\n",
      "9      971\n",
      "8      857\n",
      "6      439\n",
      "2      298\n",
      "5      291\n",
      "4      201\n",
      "1       78\n",
      "12      75\n",
      "Name: class_id, dtype: int64\n",
      "RAD ID  10\n",
      "0     2349\n",
      "3     1835\n",
      "13    1391\n",
      "11    1186\n",
      "7      929\n",
      "8      866\n",
      "10     790\n",
      "9      650\n",
      "6      338\n",
      "5      218\n",
      "2      139\n",
      "1      115\n",
      "4       91\n",
      "12      74\n",
      "Name: class_id, dtype: int64\n",
      "RAD ID  11\n",
      "2     46\n",
      "3     41\n",
      "13    40\n",
      "0     30\n",
      "11    19\n",
      "8     16\n",
      "9     15\n",
      "10    14\n",
      "7     12\n",
      "5     10\n",
      "4      7\n",
      "1      6\n",
      "12     1\n",
      "Name: class_id, dtype: int64\n",
      "RAD ID  12\n",
      "3     28\n",
      "9     19\n",
      "13    12\n",
      "10    12\n",
      "8     12\n",
      "0     12\n",
      "2     11\n",
      "11    10\n",
      "6      9\n",
      "5      9\n",
      "1      8\n",
      "7      4\n",
      "4      2\n",
      "12     1\n",
      "Name: class_id, dtype: int64\n",
      "RAD ID  13\n",
      "5     49\n",
      "7     39\n",
      "2     39\n",
      "13    35\n",
      "0     32\n",
      "9     22\n",
      "6     22\n",
      "3     20\n",
      "8     18\n",
      "11    15\n",
      "1     10\n",
      "4      9\n",
      "10     8\n",
      "12     1\n",
      "Name: class_id, dtype: int64\n"
     ]
    }
   ],
   "source": [
    "for rad in range(14):\n",
    "    print('RAD ID ', rad)\n",
    "    print(df[df['rad_id'] == 'R{}'.format(rad)]['class_id'].value_counts())"
   ]
  },
  {
   "cell_type": "code",
   "execution_count": null,
   "metadata": {},
   "outputs": [],
   "source": []
  },
  {
   "cell_type": "code",
   "execution_count": 4,
   "metadata": {},
   "outputs": [],
   "source": [
    "data = {}\n",
    "\n",
    "for i in range(len(df)):\n",
    "    image_id = df.iloc[i]['image_id']\n",
    "    class_id = df.iloc[i]['class_id']\n",
    "    rad_id = df.iloc[i]['rad_id']\n",
    "    if image_id not in data:\n",
    "        data[image_id] = {'bbox':[], 'class_id':[], 'rad_id' : []}\n",
    "        \n",
    "  \n",
    "    xmax = df.iloc[i]['x_max']\n",
    "    ymax = df.iloc[i]['y_max']\n",
    "    xmin = df.iloc[i]['x_min']\n",
    "    ymin = df.iloc[i]['y_min']\n",
    "    \n",
    "    data[image_id]['bbox'].append([xmin, ymin, xmax, ymax])\n",
    "    data[image_id]['class_id'].append(class_id)\n",
    "    data[image_id]['rad_id'].append(rad_id)"
   ]
  },
  {
   "cell_type": "code",
   "execution_count": 5,
   "metadata": {},
   "outputs": [
    {
     "data": {
      "text/plain": [
       "36096"
      ]
     },
     "execution_count": 5,
     "metadata": {},
     "output_type": "execute_result"
    }
   ],
   "source": [
    "sum([len(data[image_id]['class_id']) for image_id in data])"
   ]
  },
  {
   "cell_type": "code",
   "execution_count": 6,
   "metadata": {},
   "outputs": [
    {
     "data": {
      "text/plain": [
       "4394"
      ]
     },
     "execution_count": 6,
     "metadata": {},
     "output_type": "execute_result"
    }
   ],
   "source": [
    "len(data)"
   ]
  },
  {
   "cell_type": "code",
   "execution_count": 12,
   "metadata": {},
   "outputs": [
    {
     "data": {
      "text/plain": [
       "8616"
      ]
     },
     "execution_count": 12,
     "metadata": {},
     "output_type": "execute_result"
    }
   ],
   "source": [
    "count = 0\n",
    "iou = 0.6\n",
    "# rad = ['R9', 'R8', 'R10']\n",
    "rad = ['R8']\n",
    "for image_id in data:\n",
    "#     print(data[image_id]['rad_id'])\n",
    "#     break\n",
    "    for i in range(len(data[image_id]['bbox'])):\n",
    "        for j in range(i+1, len(data[image_id]['bbox'])):\n",
    "            if bb_intersection_over_union(data[image_id]['bbox'][i], data[image_id]['bbox'][j]) > iou \\\n",
    "            and data[image_id]['class_id'][i] == data[image_id]['class_id'][j] \\\n",
    "            and (data[image_id]['rad_id'][i] in  rad or  data[image_id]['rad_id'][j] in  rad):\n",
    "                count += 1\n",
    "\n",
    "count"
   ]
  },
  {
   "cell_type": "code",
   "execution_count": 11,
   "metadata": {},
   "outputs": [
    {
     "data": {
      "text/plain": [
       "12985"
      ]
     },
     "execution_count": 11,
     "metadata": {},
     "output_type": "execute_result"
    }
   ],
   "source": [
    "12985 "
   ]
  },
  {
   "cell_type": "code",
   "execution_count": 14,
   "metadata": {},
   "outputs": [
    {
     "data": {
      "text/plain": [
       "24998"
      ]
     },
     "execution_count": 14,
     "metadata": {},
     "output_type": "execute_result"
    }
   ],
   "source": [
    "36096 - 11098"
   ]
  },
  {
   "cell_type": "code",
   "execution_count": null,
   "metadata": {},
   "outputs": [],
   "source": []
  }
 ],
 "metadata": {
  "kernelspec": {
   "display_name": "Python 3",
   "language": "python",
   "name": "python3"
  },
  "language_info": {
   "codemirror_mode": {
    "name": "ipython",
    "version": 3
   },
   "file_extension": ".py",
   "mimetype": "text/x-python",
   "name": "python",
   "nbconvert_exporter": "python",
   "pygments_lexer": "ipython3",
   "version": "3.6.9"
  }
 },
 "nbformat": 4,
 "nbformat_minor": 4
}
