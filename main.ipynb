{
 "cells": [
  {
   "cell_type": "markdown",
   "metadata": {},
   "source": [
    "# split data"
   ]
  },
  {
   "cell_type": "code",
   "execution_count": 1,
   "metadata": {},
   "outputs": [],
   "source": [
    "import torch\n",
    "import numpy as np\n",
    "import json\n",
    "import os\n",
    "import cv2\n",
    "import random\n",
    "import glob\n",
    "import matplotlib.pyplot as plt\n",
    "import seaborn as sns\n",
    "\n",
    "import pandas as pd\n",
    "\n",
    "import tqdm\n",
    "import json\n",
    "import pickle\n",
    "from shutil import copy"
   ]
  },
  {
   "cell_type": "code",
   "execution_count": 2,
   "metadata": {},
   "outputs": [],
   "source": [
    "!mkdir /root/dataset\n",
    "!mkdir /root/dataset/fold1\n",
    "!mkdir /root/dataset/fold1/images\n",
    "!mkdir /root/dataset/fold1/images/train\n",
    "!mkdir /root/dataset/fold1/images/val_all\n",
    "!cp -r /root/dataset/fold1/images /root/dataset/fold1/labels\n",
    "\n",
    "!cp -r /root/dataset/fold1 /root/dataset/fold2 \n",
    "!cp -r /root/dataset/fold1 /root/dataset/fold3 \n",
    "!cp -r /root/dataset/fold1 /root/dataset/fold4 \n",
    "!cp -r /root/dataset/fold1 /root/dataset/fold5\n",
    "\n",
    "# !mkdir logs\n"
   ]
  },
  {
   "cell_type": "code",
   "execution_count": 6,
   "metadata": {},
   "outputs": [],
   "source": [
    "image_folder = '//home/hana/sonnh/kaggle-vin/dataset/images_only/train_jpg/'   # thư mục image gốc \n",
    "csv_train_only_box = '/home/hana/sonnh/kaggle-vin/dataset/images_only/train_only_box.csv'\n",
    "data_p_dir = 'data.p'\n",
    "train_all = False\n",
    "fold = 3# fold ở đây là từ 0 -> 4  nhưng ở folder là từ 1 -> 5"
   ]
  },
  {
   "cell_type": "markdown",
   "metadata": {},
   "source": [
    "## TRAIN"
   ]
  },
  {
   "cell_type": "code",
   "execution_count": 7,
   "metadata": {},
   "outputs": [],
   "source": [
    "df = pd.read_csv(csv_train_only_box)\n",
    "with open(data_p_dir, 'rb') as fp:\n",
    "    data_ = pickle.load(fp)    "
   ]
  },
  {
   "cell_type": "code",
   "execution_count": 8,
   "metadata": {},
   "outputs": [],
   "source": [
    "data = {}\n",
    "\n",
    "for i in range(len(df)):\n",
    "    image_id = df.iloc[i]['image_id']\n",
    "    if image_id not in data:\n",
    "        data[image_id] = {}\n",
    "    rad_id = df.iloc[i]['rad_id']\n",
    "    \n",
    "    if rad_id not in data[image_id]:\n",
    "        data[image_id][rad_id] = []\n",
    "        \n",
    "    if 'fold' not in data[image_id]:\n",
    "        data[image_id]['fold'] = df.iloc[i]['fold']\n",
    "\n",
    "    class_id = df.iloc[i]['class_id']\n",
    "    if class_id != 14:\n",
    "        width = data_['{}.dicom.png'.format(image_id)]['width']\n",
    "        height = data_['{}.dicom.png'.format(image_id)]['height']\n",
    "        xmax = df.iloc[i]['x_max']\n",
    "        ymax = df.iloc[i]['y_max']\n",
    "        xmin = df.iloc[i]['x_min']\n",
    "        ymin = df.iloc[i]['y_min']\n",
    "\n",
    "        x_center = ((xmax + xmin)//2) / width\n",
    "        b_width = (xmax - xmin) / width\n",
    "        \n",
    "        y_center = ((ymax + ymin)//2) / height\n",
    "        b_height = (ymax - ymin) / height\n",
    "        if b_height == 0:\n",
    "            print(ymax, ymin, height, image_id)\n",
    "        \n",
    "        data[image_id][rad_id].append([class_id, x_center, y_center, b_width, b_height])"
   ]
  },
  {
   "cell_type": "code",
   "execution_count": 10,
   "metadata": {
    "tags": []
   },
   "outputs": [],
   "source": [
    "for image_id in data:\n",
    "    if data[image_id]['fold'] != fold or train_all:\n",
    "        image_path = '/home/hana/sonnh/kaggle-vin/kaggle-VinBigData-Chest-X-ray-Abnormalities-Detection/dataset/fold{}/images/train'.format(fold + 1)\n",
    "        label_path = '/home/hana/sonnh/kaggle-vin/kaggle-VinBigData-Chest-X-ray-Abnormalities-Detection/dataset/fold{}/labels/train'.format(fold + 1)\n",
    "    else:\n",
    "        image_path = '/home/hana/sonnh/kaggle-vin/kaggle-VinBigData-Chest-X-ray-Abnormalities-Detection/dataset/fold{}/images/val_all'.format(fold + 1)\n",
    "        label_path = '/home/hana/sonnh/kaggle-vin/kaggle-VinBigData-Chest-X-ray-Abnormalities-Detection/dataset/fold{}/labels/val_all'.format(fold + 1)\n",
    "\n",
    "    for rad_id in data[image_id]:\n",
    "        if rad_id == 'fold':continue\n",
    "\n",
    "        f= open(os.path.join(label_path, '{}_{}.txt'.format(image_id, rad_id)),\"w+\")\n",
    "\n",
    "        for anno in data[image_id][rad_id]:\n",
    "            f.write(\"{} {} {} {} {}\\n\".format(anno[0], anno[1], anno[2], anno[3], anno[4]))\n",
    "\n",
    "        f.close()\n",
    "        copy('{}/{}.jpg'.format(image_folder, image_id), '{}/{}_{}.jpg'.format(image_path, image_id, rad_id))"
   ]
  },
  {
   "cell_type": "markdown",
   "metadata": {},
   "source": [
    "# train"
   ]
  },
  {
   "cell_type": "code",
   "execution_count": null,
   "metadata": {},
   "outputs": [],
   "source": [
    "nohup python3 -u train.py \\\n",
    "--img 1920 \\\n",
    "--batch 8 \\\n",
    "--epochs 50 \\\n",
    "--data vin_fold1.yaml \\   # fix lại có này cho mỗi fold\n",
    "--cfg yolov5x6_vin.yaml \\\n",
    "--hyp data/hyp.vin2.yaml \\\n",
    "--worker 16 \\\n",
    "--weight yolov5x6.pt \\\n",
    "--multi-scale > logs/log_fold1.log &  # nhớ thay đổi đưuòng dẫn log cho từng fold "
   ]
  },
  {
   "cell_type": "code",
   "execution_count": 43,
   "metadata": {},
   "outputs": [
    {
     "ename": "SyntaxError",
     "evalue": "invalid syntax (<ipython-input-43-6931c4a2c638>, line 2)",
     "output_type": "error",
     "traceback": [
      "\u001b[0;36m  File \u001b[0;32m\"<ipython-input-43-6931c4a2c638>\"\u001b[0;36m, line \u001b[0;32m2\u001b[0m\n\u001b[0;31m    --cfg yolov5x6_vin.yaml \\\u001b[0m\n\u001b[0m                     ^\u001b[0m\n\u001b[0;31mSyntaxError\u001b[0m\u001b[0;31m:\u001b[0m invalid syntax\n"
     ]
    }
   ],
   "source": [
    "!python3 -u train.py \\\n",
    "--img 960 \\\n",
    "--batch 8 \\\n",
    "--epochs 50 \\\n",
    "--data vin_fold1.yaml \\   \n",
    "--cfg yolov5x6_vin.yaml \\\n",
    "--hyp data/hyp.vin2.yaml \\\n",
    "--worker 16 \\\n",
    "--weight yolov5x6.pt \\\n",
    "--multi-scale"
   ]
  }
 ],
 "metadata": {
  "kernelspec": {
   "display_name": "Python 3",
   "language": "python",
   "name": "python3"
  },
  "language_info": {
   "codemirror_mode": {
    "name": "ipython",
    "version": 3
   },
   "file_extension": ".py",
   "mimetype": "text/x-python",
   "name": "python",
   "nbconvert_exporter": "python",
   "pygments_lexer": "ipython3",
   "version": "3.6.9"
  }
 },
 "nbformat": 4,
 "nbformat_minor": 4
}
