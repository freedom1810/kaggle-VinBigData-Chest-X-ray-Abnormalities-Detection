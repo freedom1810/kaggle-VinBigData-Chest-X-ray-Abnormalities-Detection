{
 "cells": [
  {
   "cell_type": "markdown",
   "metadata": {},
   "source": [
    "# split data"
   ]
  },
  {
   "cell_type": "code",
   "execution_count": 1,
   "metadata": {},
   "outputs": [],
   "source": [
    "import torch\n",
    "import numpy as np\n",
    "import json\n",
    "import os\n",
    "import cv2\n",
    "import random\n",
    "import glob\n",
    "import matplotlib.pyplot as plt\n",
    "import seaborn as sns\n",
    "\n",
    "import pandas as pd\n",
    "\n",
    "import tqdm\n",
    "import json\n",
    "import pickle\n",
    "from shutil import copy"
   ]
  },
  {
   "cell_type": "code",
   "execution_count": 2,
   "metadata": {},
   "outputs": [],
   "source": [
    "!mkdir /root/dataset\n",
    "!mkdir /root/dataset/fold1\n",
    "!mkdir /root/dataset/fold1/images\n",
    "!mkdir /root/dataset/fold1/images/train\n",
    "!mkdir /root/dataset/fold1/images/val_all\n",
    "!cp -r /root/dataset/fold1/images /root/dataset/fold1/labels\n",
    "\n",
    "!cp -r /root/dataset/fold1 /root/dataset/fold2 \n",
    "!cp -r /root/dataset/fold1 /root/dataset/fold3 \n",
    "!cp -r /root/dataset/fold1 /root/dataset/fold4 \n",
    "!cp -r /root/dataset/fold1 /root/dataset/fold5\n",
    "\n",
    "# !mkdir logs\n"
   ]
  },
  {
   "cell_type": "code",
   "execution_count": 3,
   "metadata": {},
   "outputs": [],
   "source": [
    "image_folder = '/root/train/'   # thư mục image gốc \n",
    "csv_train_only_box = '/root/train_only_box.csv'\n",
    "data_p_dir = '/root/data.p'\n",
    "train_all = True\n",
    "fold = 0 # fold ở đây là từ 0 -> 4  nhưng ở folder là từ 1 -> 5"
   ]
  },
  {
   "cell_type": "markdown",
   "metadata": {},
   "source": [
    "## TRAIN"
   ]
  },
  {
   "cell_type": "code",
   "execution_count": 4,
   "metadata": {},
   "outputs": [],
   "source": [
    "df = pd.read_csv(csv_train_only_box)\n",
    "with open(data_p_dir, 'rb') as fp:\n",
    "    data_ = pickle.load(fp)    "
   ]
  },
  {
   "cell_type": "code",
   "execution_count": 5,
   "metadata": {},
   "outputs": [],
   "source": [
    "data = {}\n",
    "\n",
    "for i in range(len(df)):\n",
    "    image_id = df.iloc[i]['image_id']\n",
    "    if image_id not in data:\n",
    "        data[image_id] = {}\n",
    "    rad_id = df.iloc[i]['rad_id']\n",
    "    \n",
    "    if rad_id not in data[image_id]:\n",
    "        data[image_id][rad_id] = []\n",
    "        \n",
    "    if 'fold' not in data[image_id]:\n",
    "        data[image_id]['fold'] = df.iloc[i]['fold']\n",
    "\n",
    "    class_id = df.iloc[i]['class_id']\n",
    "    if class_id != 14:\n",
    "        width = data_['{}.dicom.png'.format(image_id)]['width']\n",
    "        height = data_['{}.dicom.png'.format(image_id)]['height']\n",
    "        xmax = df.iloc[i]['x_max']\n",
    "        ymax = df.iloc[i]['y_max']\n",
    "        xmin = df.iloc[i]['x_min']\n",
    "        ymin = df.iloc[i]['y_min']\n",
    "\n",
    "        x_center = ((xmax + xmin)//2) / width\n",
    "        b_width = (xmax - xmin) / width\n",
    "        \n",
    "        y_center = ((ymax + ymin)//2) / height\n",
    "        b_height = (ymax - ymin) / height\n",
    "        if b_height == 0:\n",
    "            print(ymax, ymin, height, image_id)\n",
    "        \n",
    "        data[image_id][rad_id].append([class_id, x_center, y_center, b_width, b_height])"
   ]
  },
  {
   "cell_type": "code",
   "execution_count": 6,
   "metadata": {
    "collapsed": true,
    "jupyter": {
     "outputs_hidden": true
    },
    "tags": []
   },
   "outputs": [
    {
     "name": "stderr",
     "output_type": "stream",
     "text": [
      "ERROR:root:Internal Python error in the inspect module.\n",
      "Below is the traceback from this internal error.\n",
      "\n"
     ]
    },
    {
     "name": "stdout",
     "output_type": "stream",
     "text": [
      "Traceback (most recent call last):\n",
      "  File \"/usr/local/lib/python3.7/dist-packages/IPython/core/interactiveshell.py\", line 2882, in run_code\n",
      "    exec(code_obj, self.user_global_ns, self.user_ns)\n",
      "  File \"<ipython-input-6-ea8da633db69>\", line 18, in <module>\n",
      "    copy('{}/{}.png'.format(image_folder, image_id), '{}/{}_{}.png'.format(image_path, image_id, rad_id))\n",
      "  File \"/usr/lib/python3.7/shutil.py\", line 248, in copy\n",
      "    copyfile(src, dst, follow_symlinks=follow_symlinks)\n",
      "  File \"/usr/lib/python3.7/shutil.py\", line 122, in copyfile\n",
      "    copyfileobj(fsrc, fdst)\n",
      "  File \"/usr/lib/python3.7/shutil.py\", line 79, in copyfileobj\n",
      "    buf = fsrc.read(length)\n",
      "KeyboardInterrupt\n",
      "\n",
      "During handling of the above exception, another exception occurred:\n",
      "\n",
      "Traceback (most recent call last):\n",
      "  File \"/usr/local/lib/python3.7/dist-packages/IPython/core/interactiveshell.py\", line 1823, in showtraceback\n",
      "    stb = value._render_traceback_()\n",
      "AttributeError: 'KeyboardInterrupt' object has no attribute '_render_traceback_'\n",
      "\n",
      "During handling of the above exception, another exception occurred:\n",
      "\n",
      "Traceback (most recent call last):\n",
      "  File \"/usr/local/lib/python3.7/dist-packages/IPython/core/ultratb.py\", line 1132, in get_records\n",
      "    return _fixed_getinnerframes(etb, number_of_lines_of_context, tb_offset)\n",
      "  File \"/usr/local/lib/python3.7/dist-packages/IPython/core/ultratb.py\", line 313, in wrapped\n",
      "    return f(*args, **kwargs)\n",
      "  File \"/usr/local/lib/python3.7/dist-packages/IPython/core/ultratb.py\", line 358, in _fixed_getinnerframes\n",
      "    records = fix_frame_records_filenames(inspect.getinnerframes(etb, context))\n",
      "  File \"/usr/lib/python3.7/inspect.py\", line 1502, in getinnerframes\n",
      "    frameinfo = (tb.tb_frame,) + getframeinfo(tb, context)\n",
      "  File \"/usr/lib/python3.7/inspect.py\", line 1460, in getframeinfo\n",
      "    filename = getsourcefile(frame) or getfile(frame)\n",
      "  File \"/usr/lib/python3.7/inspect.py\", line 696, in getsourcefile\n",
      "    if getattr(getmodule(object, filename), '__loader__', None) is not None:\n",
      "  File \"/usr/lib/python3.7/inspect.py\", line 742, in getmodule\n",
      "    os.path.realpath(f)] = module.__name__\n",
      "  File \"/usr/lib/python3.7/posixpath.py\", line 395, in realpath\n",
      "    path, ok = _joinrealpath(filename[:0], filename, {})\n",
      "  File \"/usr/lib/python3.7/posixpath.py\", line 429, in _joinrealpath\n",
      "    if not islink(newpath):\n",
      "  File \"/usr/lib/python3.7/posixpath.py\", line 171, in islink\n",
      "    st = os.lstat(path)\n",
      "KeyboardInterrupt\n"
     ]
    },
    {
     "ename": "KeyboardInterrupt",
     "evalue": "",
     "output_type": "error",
     "traceback": [
      "\u001b[0;31m---------------------------------------------------------------------------\u001b[0m"
     ]
    }
   ],
   "source": [
    "for image_id in data:\n",
    "    if data[image_id]['fold'] != fold or train_all:\n",
    "        image_path = '/root/dataset/fold{}/images/train'.format(fold + 1)\n",
    "        label_path = '/root/dataset/fold{}/labels/train'.format(fold + 1)\n",
    "    else:\n",
    "        image_path = '/root/dataset/fold{}/images/val_all'.format(fold+1)\n",
    "        label_path = '/root/dataset/fold{}/labels/val_all'.format(fold+1)\n",
    "\n",
    "    for rad_id in data[image_id]:\n",
    "        if rad_id == 'fold':continue\n",
    "\n",
    "        f= open(os.path.join(label_path, '{}_{}.txt'.format(image_id, rad_id)),\"w+\")\n",
    "\n",
    "        for anno in data[image_id][rad_id]:\n",
    "            f.write(\"{} {} {} {} {}\\n\".format(anno[0], anno[1], anno[2], anno[3], anno[4]))\n",
    "\n",
    "        f.close()\n",
    "        copy('{}/{}.jpg'.format(image_folder, image_id), '{}/{}_{}.jpg'.format(image_path, image_id, rad_id))"
   ]
  },
  {
   "cell_type": "markdown",
   "metadata": {},
   "source": [
    "# train"
   ]
  },
  {
   "cell_type": "code",
   "execution_count": null,
   "metadata": {},
   "outputs": [],
   "source": [
    "nohup python3 -u train.py \\\n",
    "--img 1920 \\\n",
    "--batch 8 \\\n",
    "--epochs 50 \\\n",
    "--data vin_fold1.yaml \\   # fix lại có này cho mỗi fold\n",
    "--cfg yolov5x6_vin.yaml \\\n",
    "--hyp data/hyp.vin2.yaml \\\n",
    "--worker 16 \\\n",
    "--weight yolov5x6.pt \\\n",
    "--multi-scale > logs/log_fold1.log &  # nhớ thay đổi đưuòng dẫn log cho từng fold "
   ]
  },
  {
   "cell_type": "code",
   "execution_count": 43,
   "metadata": {},
   "outputs": [
    {
     "ename": "SyntaxError",
     "evalue": "invalid syntax (<ipython-input-43-6931c4a2c638>, line 2)",
     "output_type": "error",
     "traceback": [
      "\u001b[0;36m  File \u001b[0;32m\"<ipython-input-43-6931c4a2c638>\"\u001b[0;36m, line \u001b[0;32m2\u001b[0m\n\u001b[0;31m    --cfg yolov5x6_vin.yaml \\\u001b[0m\n\u001b[0m                     ^\u001b[0m\n\u001b[0;31mSyntaxError\u001b[0m\u001b[0;31m:\u001b[0m invalid syntax\n"
     ]
    }
   ],
   "source": [
    "!python3 -u train.py \\\n",
    "--img 960 \\\n",
    "--batch 8 \\\n",
    "--epochs 50 \\\n",
    "--data vin_fold1.yaml \\   \n",
    "--cfg yolov5x6_vin.yaml \\\n",
    "--hyp data/hyp.vin2.yaml \\\n",
    "--worker 16 \\\n",
    "--weight yolov5x6.pt \\\n",
    "--multi-scale"
   ]
  }
 ],
 "metadata": {
  "kernelspec": {
   "display_name": "Python 3",
   "language": "python",
   "name": "python3"
  },
  "language_info": {
   "codemirror_mode": {
    "name": "ipython",
    "version": 3
   },
   "file_extension": ".py",
   "mimetype": "text/x-python",
   "name": "python",
   "nbconvert_exporter": "python",
   "pygments_lexer": "ipython3",
   "version": "3.6.9"
  }
 },
 "nbformat": 4,
 "nbformat_minor": 4
}
